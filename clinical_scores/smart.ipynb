{
  "cells": [
    {
      "cell_type": "code",
      "execution_count": null,
      "metadata": {},
      "outputs": [],
      "source": [
        "%load_ext autoreload\n",
        "%autoreload 2\n",
        "%aimport -raw_data_preprocessing -pandas -numpy"
      ]
    },
    {
      "cell_type": "code",
      "execution_count": null,
      "metadata": {
        "gather": {
          "logged": 1739893559995
        }
      },
      "outputs": [],
      "source": [
        "import os\n",
        "import sys\n",
        "\n",
        "import pandas as pd\n",
        "import numpy as np\n",
        "\n",
        "sys.path.append(\"../\")\n",
        "sys.path.append(\"../ukbb_preprocessing/\")\n",
        "\n",
        "from raw_data_preprocessing.raw_data_loader import raw_data_loader\n",
        "from raw_data_preprocessing.constants import *\n",
        "from utils import rename_variables, DataRegisterer, percentile, save_results\n",
        "\n",
        "TEST_EXAMPLE = False\n",
        "loader = raw_data_loader()\n",
        "registerer = DataRegisterer()"
      ]
    },
    {
      "cell_type": "code",
      "execution_count": null,
      "metadata": {},
      "outputs": [],
      "source": [
        "if TEST_EXAMPLE:\n",
        "    # TODO get example from manuscript, if any\n",
        "    pass\n",
        "else:\n",
        "    if os.path.exists(\"cache/df.pkl\"):\n",
        "        print(\"Loading cached df\")\n",
        "        df = pd.read_pickle(\"cache/df.pkl\")\n",
        "    else:\n",
        "        data_asset = loader.ws.data.get(name=\"pheno_recvd\", version=\"2\")\n",
        "        df = pd.read_csv(data_asset.path)\n",
        "        df = df.rename(columns={\"eid\": \"IID\"})\n",
        "        df.index = df.IID.astype(int)\n",
        "        df.to_pickle(\"cache/df.pkl\")\n",
        "\n",
        "    if os.path.exists(\"cache/processed_df.pkl\"):\n",
        "        print(\"Loading cached processed_df\")\n",
        "        smart_df = pd.read_pickle(\"cache/processed_df.pkl\")\n",
        "    else:\n",
        "        smart_df = rename_variables(df)\n",
        "        smart_df.to_pickle(\"cache/processed_df.pkl\")"
      ]
    },
    {
      "cell_type": "code",
      "execution_count": null,
      "metadata": {},
      "outputs": [],
      "source": [
        "def match_codes(code_list, diagnosis_list):\n",
        "\n",
        "    for diagnosis in diagnosis_list:\n",
        "        for code in code_list:\n",
        "            if diagnosis.startswith(code):\n",
        "                return True\n",
        "\n",
        "    return False\n",
        "\n",
        "# from https://academic.oup.com/eurjpc/advance-article/doi/10.1093/eurjpc/zwae352/7849694?login=true\n",
        "# Study design\n",
        "\n",
        "# from bud\n",
        "cerebrovascular_disease_icd10 = [\n",
        "    \"G45\", \"G450\", \"G451\", \"G452\", \"G453\", \"G454\", \"G458\",\n",
        "    \"G459\", \"I60\", \"I600\", \"I601\", \"I602\", \"I603\", \"I604\",\n",
        "    \"I605\", \"I606\", \"I607\", \"I608\", \"I609\", \"I61\", \"I610\",\n",
        "    \"I611\", \"I612\", \"I613\", \"I614\", \"I615\", \"I616\", \"I618\",\n",
        "    \"I619\", \"I62\", \"I620\", \"I621\", \"I629\", \"I63\", \"I630\",\n",
        "    \"I631\", \"I632\", \"I633\", \"I634\", \"I635\", \"I636\", \"I638\",\n",
        "    \"I639\", \"I64\", \"I65\", \"I650\", \"I651\", \"I652\", \"I653\", \n",
        "    \"I658\", \"I659\", \"I66\", \"I660\", \"I661\", \"I662\", \"I663\",\n",
        "    \"I664\", \"I668\", \"I669\", \"I67\", \"I670\", \"I671\", \"I672\",\n",
        "    \"I673\", \"I674\", \"I675\", \"I676\", \"I677\", \"I678\", \"I679\",\n",
        "    \"I68\", \"I680\", \"I681\", \"I682\", \"I688\", \"I69\", \"I690\",\n",
        "    \"I691\", \"I692\", \"I693\", \"I694\", \"I698\"\n",
        "]\n",
        "# from our manuscript\n",
        "coronary_artery_disease_icd10 = [\"I20\", \"I21\", \"I22\", \"I23\", \"I24\", \"I25\"]\n",
        "# from bud\n",
        "peripheral_arterial_disease_icd10 = [\"I702\", \"I73\"]\n",
        "abdominal_aortic_aneurysm_icd10 = [\"I71\"]\n",
        "    \n",
        "# from the icd10_diagnoses list\n",
        "smart_df[\"prior_cerebrovascular_disease\"] = smart_df[\"icd10_diagnoses\"].apply(\n",
        "    lambda x: match_codes(cerebrovascular_disease_icd10, x)\n",
        "    )\n",
        "smart_df[\"prior_coronary_artery_disease\"] = smart_df[\"icd10_diagnoses\"].apply(\n",
        "    lambda x: match_codes(coronary_artery_disease_icd10, x)\n",
        "    )\n",
        "smart_df[\"prior_peripheral_arterial_disease\"] = smart_df[\"icd10_diagnoses\"].apply(\n",
        "    lambda x: match_codes(peripheral_arterial_disease_icd10, x)\n",
        "    )\n",
        "smart_df[\"prior_abdominal_aortic_aneurysm\"] = smart_df[\"icd10_diagnoses\"].apply(\n",
        "    lambda x: match_codes(abdominal_aortic_aneurysm_icd10, x)\n",
        "    )"
      ]
    },
    {
      "cell_type": "markdown",
      "metadata": {},
      "source": [
        "# Implementation\n",
        "\n",
        "We used the following resources:\n",
        "- The coefficients from the [SMART manuscript](https://heart.bmj.com/content/99/12/866.long), Table 2."
      ]
    },
    {
      "cell_type": "code",
      "execution_count": null,
      "metadata": {},
      "outputs": [],
      "source": [
        "# Model A, SMART risk score\n",
        "#  Age in years\t−0.0850\t62.8*\t<0.01*\t1.86 (1.59 to 2.19)*\n",
        "#  Age in years squared\t0.0011\t\t\t\n",
        "#  Male sex\t0.1561\t2.2\t0.14\t1.19 (0.94 to 1.51)\n",
        "#  Diabetes mellitus\t0.2232\t5.3\t0.02\t1.30 (1.05 to 1.63)\n",
        "#  Current smoking\t0.2617\t7.6\t<0.01\t1.33 (1.09 to 1.62)\n",
        "#  Systolic blood pressure (per 10 mm Hg)\t0.0043\t4.1\t0.04\t1.04 (1.00 to 1.09)\n",
        "#  Total cholesterol (mmol/l)\t0.0959\t5.6\t0.02\t1.11 (1.02 to 1.20)\n",
        "#  HDL-cholesterol (mmol/l)\t−0.4256\t9.8\t<0.01\t0.63 (0.47 to 0.85)\n",
        "#  hs-CRP (mg/dl) log transformed\t0.1394\t9.8\t<0.01\t1.24 (1.08 to 1.41)*\n",
        "#  eGFR (ml/min/1.73 m²)\t−0.0532\t21.0*\t<0.01\t0.87 (0.76 to 0.98)*\n",
        "#  eGFR squared\t0.0003\t\t\t\n",
        "#  Years since first vascular event\t0.0229\t7.4\t<0.01\t1.02 (1.01 to 1.03)\n",
        "#  History of cerebrovascular disease\t0.4058\t17.4\t<0.01\t1.65 (1.31 to 2.08)\n",
        "#  History of coronary artery disease\t0.1401\t3.9\t0.05\t1.28 (1.00 to 1.62)\n",
        "#  History of abdominal aortic aneurysm\t0.5578\t21.2\t<0.01\t1.93 (1.48 to 2.51)\n",
        "#  History of peripheral arterial disease\t0.2832\t9.0\t<0.01\t1.44 (1.14 to 1.81)\n",
        "\n",
        "smart  = -0.0850 * smart_df[\"age\"]\n",
        "smart +=  0.0011 * smart_df[\"age\"] ** 2\n",
        "smart +=  0.1561 * smart_df[\"sex\"]\n",
        "smart +=  0.2232 * smart_df[\"diabetes\"]\n",
        "smart +=  0.2617 * smart_df[\"smoking\"]\n",
        "smart +=  0.0043 * smart_df[\"systolic_blood_pressure\"] / 10\n",
        "smart +=  0.0959 * smart_df[\"tc\"]\n",
        "smart += -0.4256 * smart_df[\"hdlc\"]\n",
        "smart +=  0.1394 * np.log(smart_df[\"crp\"] / 10)\n",
        "smart += -0.0532 * smart_df[\"egfr_creat_cys\"]\n",
        "smart +=  0.0003 * smart_df[\"egfr_creat_cys\"] ** 2\n",
        "smart +=  0.0229 * smart_df[\"years_since_first_event\"]\n",
        "smart +=  0.4058 * smart_df[\"prior_cerebrovascular_disease\"]\n",
        "smart +=  0.1401 * smart_df[\"prior_coronary_artery_disease\"]\n",
        "smart +=  0.5578 * smart_df[\"prior_abdominal_aortic_aneurysm\"]\n",
        "smart +=  0.2832 * smart_df[\"prior_peripheral_arterial_disease\"]"
      ]
    },
    {
      "cell_type": "code",
      "execution_count": null,
      "metadata": {
        "gather": {
          "logged": 1691755941668
        }
      },
      "outputs": [],
      "source": [
        "smart_df[\"y_score\"] = (1 - 0.81066 ** np.exp(smart + 2.099)) * 100\n",
        "\n",
        "# remove those with no prior arterial atherosclerosis\n",
        "excluded = smart_df[\n",
        "    smart_df[\"prior_cerebrovascular_disease\"] |\n",
        "    smart_df[\"prior_coronary_artery_disease\"] |\n",
        "    smart_df[\"prior_peripheral_arterial_disease\"] |\n",
        "    smart_df[\"prior_abdominal_aortic_aneurysm\"]\n",
        "]\n",
        "\n",
        "smart_df.loc[excluded.index, \"y_score\"] = np.nan\n",
        "\n",
        "score = smart_df[['sex', 'y_score']].copy()"
      ]
    },
    {
      "cell_type": "markdown",
      "metadata": {},
      "source": [
        "# QC"
      ]
    },
    {
      "cell_type": "code",
      "execution_count": null,
      "metadata": {
        "gather": {
          "logged": 1691755991910
        }
      },
      "outputs": [],
      "source": [
        "# compute auc\n",
        "from sklearn.metrics import roc_auc_score\n",
        "\n",
        "y_true = df.event_10yr_label.values.astype(bool)\n",
        "y_score = score['y_score'].values\n",
        "\n",
        "mask = ~np.isnan(y_true) & ~np.isnan(y_score)\n",
        "y_true = y_true[mask]\n",
        "y_score = y_score[mask]\n",
        "\n",
        "roc_auc_score(y_true, y_score)"
      ]
    },
    {
      "cell_type": "markdown",
      "metadata": {},
      "source": [
        "# Save"
      ]
    },
    {
      "cell_type": "code",
      "execution_count": null,
      "metadata": {
        "gather": {
          "logged": 1691755992007
        }
      },
      "outputs": [],
      "source": [
        "# compute top quantile by sex as threshold\n",
        "thresholds = score[['sex', 'y_score']].groupby(\"sex\").aggregate(percentile(0.95))\n",
        "thresholds = thresholds.reset_index()\n",
        "thresholds.columns = [\"sex\", \"threshold\"]\n",
        "\n",
        "score = score.reset_index().merge(thresholds, on=\"sex\", how=\"left\").set_index('IID')\n",
        "score[\"y_pred\"] = (score[\"y_score\"] > score[\"threshold\"]).astype(int)\n",
        "\n",
        "if not TEST_EXAMPLE:\n",
        "    save_results(score[['y_score', 'y_pred']], \"results/smart\")"
      ]
    }
  ],
  "metadata": {
    "kernel_info": {
      "name": "python310-sdkv2"
    },
    "kernelspec": {
      "display_name": "azureml_py310_sdkv2",
      "language": "python",
      "name": "python3"
    },
    "language_info": {
      "codemirror_mode": {
        "name": "ipython",
        "version": 3
      },
      "file_extension": ".py",
      "mimetype": "text/x-python",
      "name": "python",
      "nbconvert_exporter": "python",
      "pygments_lexer": "ipython3",
      "version": "3.10.10"
    },
    "microsoft": {
      "host": {
        "AzureML": {
          "notebookHasBeenCompleted": true
        }
      },
      "ms_spell_check": {
        "ms_spell_check_language": "en"
      }
    },
    "nteract": {
      "version": "nteract-front-end@1.0.0"
    }
  },
  "nbformat": 4,
  "nbformat_minor": 2
}
