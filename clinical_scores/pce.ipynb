{
 "cells": [
  {
   "cell_type": "code",
   "execution_count": null,
   "metadata": {},
   "outputs": [],
   "source": [
    "%load_ext autoreload\n",
    "%autoreload 2\n",
    "%aimport -raw_data_preprocessing -pandas -numpy"
   ]
  },
  {
   "cell_type": "code",
   "execution_count": null,
   "metadata": {
    "gather": {
     "logged": 1686847755430
    }
   },
   "outputs": [],
   "source": [
    "import numpy as np\n",
    "import matplotlib.pyplot as plt\n",
    "import pandas as pd\n",
    "\n",
    "import sys\n",
    "sys.path.append(\"../\")\n",
    "sys.path.append(\"../ukbb_preprocessing/\")\n",
    "\n",
    "from raw_data_preprocessing.raw_data_loader import raw_data_loader\n",
    "from raw_data_preprocessing.constants import *\n",
    "from utils import rename_variables, DataRegisterer, percentile\n",
    "\n",
    "REGISTER = False\n",
    "\n",
    "loader = raw_data_loader()\n",
    "registerer = DataRegisterer()\n",
    "\n",
    "data_asset = loader.ws.data.get(name=\"clin_ascvd\", version=\"6\")\n",
    "df = pd.read_csv(data_asset.path)\n",
    "df.index = df.IID.astype(int)"
   ]
  },
  {
   "cell_type": "code",
   "execution_count": null,
   "metadata": {},
   "outputs": [],
   "source": [
    "score = rename_variables(df)\n",
    "t2d = loader._load_t2d()\n",
    "\n",
    "score = score.merge(t2d, on='IID', how='left')\n",
    "score['t2d'] = score['t2d'].astype(bool)\n",
    "score['t2d_date'] = pd.to_datetime(score['t2d_date'], format='%Y-%m-%d')\n",
    "\n",
    "score[\"current_smoker\"] = score[\"smoking\"] == 2\n",
    "score[\"prior_diabetes\"] = score[\"diabetes\"] == 1 | (score[\"t2d\"] & (score[\"t2d_date\"].isna() | (score[\"t2d_date\"] < score[\"study_date\"])))\n",
    "score[\"regular_drinker\"] = score[\"alcohol_intake\"].isin([1,2])\n",
    "\n",
    "# from Table 4, https://www.ahajournals.org/doi/suppl/10.1161/01.cir.0000437741.48606.98\n",
    "# this is the model for white people\n",
    "pce_m_age                   =  12.344*np.log(score['age'])\n",
    "pce_m_tc                    =  11.853*np.log(score['tc'])\n",
    "pce_m_age_tc                = - 2.664*np.log(score['age'])*np.log(score['tc'])\n",
    "pce_m_hdlc                  = - 7.990*np.log(score['hdlc'])\n",
    "pce_m_age_hdlc              =   1.769*np.log(score['age'])*np.log(score['hdlc'])\n",
    "pce_m_current_smoker        =   7.837*score['current_smoker']\n",
    "pce_m_age_current_smoker    = - 1.795*np.log(score['age'])*score['current_smoker']\n",
    "pce_m_prior_diabetes        =   0.658*score['prior_diabetes']\n",
    "pce_m_cvd_meds              = np.where(score['cvd_meds'].str.contains('2', regex=False), \n",
    "                                       1.797*np.log(score['systolic_blood_pressure']), \n",
    "                                       1.764*np.log(score['systolic_blood_pressure']))\n",
    "\n",
    "pce_m = 0\n",
    "\n",
    "for term in [pce_m_age, pce_m_tc, pce_m_age_tc, pce_m_hdlc, pce_m_age_hdlc, pce_m_current_smoker,\n",
    "             pce_m_age_current_smoker, pce_m_prior_diabetes, pce_m_cvd_meds]:\n",
    "    term = np.nan_to_num(term, 0)\n",
    "    pce_m += term\n",
    "\n",
    "pce_f_age                  = -29.799*np.log(score['age'])\n",
    "pce_f_tc                   =  13.540*np.log(score['tc'])\n",
    "pce_f_age_tc               = - 3.114*np.log(score['age'])*np.log(score['tc'])\n",
    "pce_f_hdlc                 = -13.578*np.log(score['hdlc'])\n",
    "pce_f_age_hdlc             =   3.149*np.log(score['age'])*np.log(score['hdlc'])\n",
    "pce_f_current_smoker       =   7.574*score['current_smoker']\n",
    "pce_f_age_current_smoker   = - 1.665*np.log(score['age'])*score['current_smoker']\n",
    "pce_f_prior_diabetes       =   0.661*score['prior_diabetes']\n",
    "pce_f_age2                 =   4.884*np.log(score['age'])**2\n",
    "pce_f_cvd_meds             = np.where(score['cvd_meds'].str.contains('2', regex=False),\n",
    "                                      2.019*np.log(score['systolic_blood_pressure']),\n",
    "                                      1.957*np.log(score['systolic_blood_pressure']))\n",
    "\n",
    "pce_f = 0\n",
    "\n",
    "for term in [pce_f_age, pce_f_tc, pce_f_age_tc, pce_f_hdlc, pce_f_age_hdlc, pce_f_current_smoker,\n",
    "                pce_f_age_current_smoker, pce_f_prior_diabetes, pce_f_age2, pce_f_cvd_meds]:\n",
    "    term = np.nan_to_num(term, 0)\n",
    "    pce_f += term\n",
    "\n",
    "score['y_score'] = np.where(score['sex'] == 1, pce_m, pce_f)\n",
    "\n",
    "# compute top quantile by sex as threshold\n",
    "thresholds = score[['sex', 'y_score']].groupby(\"sex\").aggregate(percentile(0.95))\n",
    "thresholds = thresholds.reset_index()\n",
    "thresholds.columns = [\"sex\", \"threshold\"]\n",
    "\n",
    "score = score.reset_index().merge(thresholds, on=\"sex\", how=\"left\").set_index('IID')\n",
    "score[\"y_pred\"] = (score[\"y_score\"] > score[\"threshold\"]).astype(int)\n",
    "\n",
    "score = score[['y_score', 'y_pred']]"
   ]
  },
  {
   "cell_type": "code",
   "execution_count": null,
   "metadata": {},
   "outputs": [],
   "source": [
    "import os\n",
    "os.makedirs(\"pce\", exist_ok=True)\n",
    "\n",
    "splits = loader._load_csv_folder(data_asset_name=\"ukbb_golden_splits_by_diagnosis_date\", version=3)\n",
    "splits = [split.set_index(split.IID.astype(int)) for split in splits]\n",
    "\n",
    "for i, s in enumerate(splits):\n",
    "    s[\"IID\"] = s[\"IID\"].astype(int)\n",
    "    s_merged = s.set_index(\"IID\").merge(score, on=\"IID\")\n",
    "    s_merged.to_csv(f'pce/npx_clin_ascvd_{i}_test.csv', sep=',')"
   ]
  },
  {
   "cell_type": "code",
   "execution_count": null,
   "metadata": {},
   "outputs": [],
   "source": [
    "assert merged['pce'].corr(merged['y_score']) > 0.999995\n",
    "\n",
    "if REGISTER:\n",
    "    registerer.register_table(data_dir=\"pce.tsv\", name=\"pce_score\", description=\"PCE score\")"
   ]
  }
 ],
 "metadata": {
  "kernel_info": {
   "name": "python310-sdkv2"
  },
  "kernelspec": {
   "display_name": "azureml_py310_sdkv2",
   "language": "python",
   "name": "python3"
  },
  "language_info": {
   "codemirror_mode": {
    "name": "ipython",
    "version": 3
   },
   "file_extension": ".py",
   "mimetype": "text/x-python",
   "name": "python",
   "nbconvert_exporter": "python",
   "pygments_lexer": "ipython3",
   "version": "3.10.10"
  },
  "microsoft": {
   "ms_spell_check": {
    "ms_spell_check_language": "en"
   }
  },
  "nteract": {
   "version": "nteract-front-end@1.0.0"
  }
 },
 "nbformat": 4,
 "nbformat_minor": 2
}
