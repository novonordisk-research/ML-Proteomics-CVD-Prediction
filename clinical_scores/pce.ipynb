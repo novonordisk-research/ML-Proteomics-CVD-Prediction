{
 "cells": [
  {
   "cell_type": "code",
   "execution_count": null,
   "metadata": {},
   "outputs": [],
   "source": [
    "%load_ext autoreload\n",
    "%autoreload 2\n",
    "%aimport -raw_data_preprocessing -pandas -numpy"
   ]
  },
  {
   "cell_type": "code",
   "execution_count": null,
   "metadata": {
    "gather": {
     "logged": 1686847755430
    }
   },
   "outputs": [],
   "source": [
    "import sys\n",
    "\n",
    "import numpy as np\n",
    "import matplotlib.pyplot as plt\n",
    "import pandas as pd\n",
    "\n",
    "sys.path.append(\"../\")\n",
    "sys.path.append(\"../ukbb_preprocessing/\")\n",
    "\n",
    "from raw_data_preprocessing.raw_data_loader import raw_data_loader\n",
    "from raw_data_preprocessing.constants import *\n",
    "from utils import rename_variables, DataRegisterer, percentile, save_results\n",
    "\n",
    "loader = raw_data_loader()\n",
    "registerer = DataRegisterer()\n",
    "\n",
    "data_asset = loader.ws.data.get(name=\"clin_ascvd\", version=\"6\")"
   ]
  },
  {
   "cell_type": "code",
   "execution_count": null,
   "metadata": {},
   "outputs": [],
   "source": [
    "df = pd.read_csv(data_asset.path)\n",
    "df.index = df.IID.astype(int)\n",
    "score = rename_variables(df)\n",
    "t2d = loader._load_t2d()\n",
    "\n",
    "score = score.merge(t2d, on='IID', how='left')\n",
    "score['t2d'] = score['t2d'].astype(bool)\n",
    "score['t2d_date'] = pd.to_datetime(score['t2d_date'], format='%Y-%m-%d')"
   ]
  },
  {
   "cell_type": "code",
   "execution_count": null,
   "metadata": {},
   "outputs": [],
   "source": [
    "# # test example from the paper\n",
    "# score = pd.DataFrame({\n",
    "#     'IID': [1, 2, 3, 4],\n",
    "#     'sr-ethnicity': [1.0, 5.0, 1.0, 5.0],\n",
    "#     'sex': [0, 0, 1, 1],\n",
    "#     'age': [55, 55, 55, 55],\n",
    "#     'tc': [213 / 38.67, 213 / 38.67, 213 / 38.67, 213 / 38.67],\n",
    "#     'hdlc': [50 / 38.67, 50 / 38.67, 50 / 38.67, 50 / 38.67],\n",
    "#     'cvd_meds': ['0', '0', '0', '0'],\n",
    "#     'systolic_blood_pressure': [120, 120, 120, 120],\n",
    "#     'smoking': [0, 0, 0, 0],\n",
    "#     'diabetes': [0, 0, 0, 0],\n",
    "#     't2d': [False, False, False, False],\n",
    "#     't2d_date': [pd.NaT, pd.NaT, pd.NaT, pd.NaT],\n",
    "#     'study_date': [pd.to_datetime('2021-01-01'), pd.to_datetime('2021-01-01'), pd.to_datetime('2021-01-01'), pd.to_datetime('2021-01-01')]\n",
    "# })\n",
    "# # expected: 0.053, NaN, 0.061, NaN"
   ]
  },
  {
   "cell_type": "code",
   "execution_count": null,
   "metadata": {},
   "outputs": [],
   "source": [
    "# convert mmol / L to mg / dL\n",
    "score['tc'] = score['tc'] * 38.67\n",
    "score['hdlc'] = score['hdlc'] * 38.67\n",
    "\n",
    "score[\"current_smoker\"] = score[\"smoking\"] == 2\n",
    "score[\"prior_diabetes\"] = score[\"diabetes\"] == 1 | (score[\"t2d\"] & (score[\"t2d_date\"].isna() | (score[\"t2d_date\"] < score[\"study_date\"])))\n",
    "\n",
    "# from Table A, https://www.ahajournals.org/doi/pdf/10.1161/01.cir.0000437741.48606.98\n",
    "# this is the model for white people\n",
    "# male white\n",
    "pce_mw_age                   =  12.344*np.log(score['age'])\n",
    "pce_mw_tc                    =  11.853*np.log(score['tc'])\n",
    "pce_mw_age_tc                = - 2.664*np.log(score['age'])*np.log(score['tc'])\n",
    "pce_mw_hdlc                  = - 7.990*np.log(score['hdlc'])\n",
    "pce_mw_age_hdlc              =   1.769*np.log(score['age'])*np.log(score['hdlc'])\n",
    "pce_mw_sbp                   = np.where(score['cvd_meds'].str.contains('2', regex=False), \n",
    "                                       1.797*np.log(score['systolic_blood_pressure']), \n",
    "                                       1.764*np.log(score['systolic_blood_pressure']))\n",
    "pce_mw_current_smoker        =   7.837*score['current_smoker']\n",
    "pce_mw_age_current_smoker    = - 1.795*np.log(score['age'])*score['current_smoker']\n",
    "pce_mw_prior_diabetes        =   0.658*score['prior_diabetes']\n",
    "\n",
    "pce_mw = 0\n",
    "\n",
    "for term in [pce_mw_age, pce_mw_tc, pce_mw_age_tc, pce_mw_hdlc, pce_mw_age_hdlc, pce_mw_current_smoker,\n",
    "             pce_mw_age_current_smoker, pce_mw_prior_diabetes, pce_mw_sbp]:\n",
    "    term = np.nan_to_num(term, 0)\n",
    "    pce_mw += term\n",
    "\n",
    "pce_mw = 1 - 0.9144 ** np.exp(pce_mw - 61.18)\n",
    "\n",
    "# female white\n",
    "pce_fw_age                  = -29.799*np.log(score['age'])\n",
    "pce_fw_age2                 =   4.884*np.log(score['age'])**2\n",
    "pce_fw_tc                   =  13.540*np.log(score['tc'])\n",
    "pce_fw_age_tc               = - 3.114*np.log(score['age'])*np.log(score['tc'])\n",
    "pce_fw_hdlc                 = -13.578*np.log(score['hdlc'])\n",
    "pce_fw_age_hdlc             =   3.149*np.log(score['age'])*np.log(score['hdlc'])\n",
    "pce_fw_sbp                  = np.where(score['cvd_meds'].str.contains('2', regex=False),\n",
    "                                      2.019*np.log(score['systolic_blood_pressure']),\n",
    "                                      1.957*np.log(score['systolic_blood_pressure']))\n",
    "pce_fw_current_smoker       =   7.574*score['current_smoker']\n",
    "pce_fw_age_current_smoker   = - 1.665*np.log(score['age'])*score['current_smoker']\n",
    "pce_fw_prior_diabetes       =   0.661*score['prior_diabetes']\n",
    "\n",
    "pce_fw = 0\n",
    "\n",
    "for term in [pce_fw_age, pce_fw_tc, pce_fw_age_tc, pce_fw_hdlc, pce_fw_age_hdlc, pce_fw_current_smoker,\n",
    "                pce_fw_age_current_smoker, pce_fw_prior_diabetes, pce_fw_age2, pce_fw_sbp]:\n",
    "    term = np.nan_to_num(term, 0)\n",
    "    pce_fw += term\n",
    "\n",
    "pce_fw = 1 - 0.9665 ** np.exp(pce_fw + 29.18)\n",
    "\n",
    "score['y_score'] = np.where(score['sex'] == 1, pce_mw, pce_fw)\n",
    "score.loc[~score[\"sr-ethnicity\"].isin([1.0, 1001, 1002, 1003]), 'y_score'] = np.nan\n",
    "\n",
    "# compute top quantile by sex as threshold\n",
    "thresholds = score[['sex', 'y_score']].groupby(\"sex\").aggregate(percentile(0.95))\n",
    "thresholds = thresholds.reset_index()\n",
    "thresholds.columns = [\"sex\", \"threshold\"]\n",
    "\n",
    "score = score.reset_index().merge(thresholds, on=\"sex\", how=\"left\").set_index('IID')\n",
    "score[\"y_pred\"] = (score[\"y_score\"] > score[\"threshold\"]).astype(int)\n",
    "\n",
    "score = score[['y_score', 'y_pred']]\n",
    "save_results(score, \"results/pce\")"
   ]
  }
 ],
 "metadata": {
  "kernel_info": {
   "name": "python310-sdkv2"
  },
  "kernelspec": {
   "display_name": "azureml_py310_sdkv2",
   "language": "python",
   "name": "python3"
  },
  "language_info": {
   "codemirror_mode": {
    "name": "ipython",
    "version": 3
   },
   "file_extension": ".py",
   "mimetype": "text/x-python",
   "name": "python",
   "nbconvert_exporter": "python",
   "pygments_lexer": "ipython3",
   "version": "3.10.10"
  },
  "microsoft": {
   "ms_spell_check": {
    "ms_spell_check_language": "en"
   }
  },
  "nteract": {
   "version": "nteract-front-end@1.0.0"
  }
 },
 "nbformat": 4,
 "nbformat_minor": 2
}
