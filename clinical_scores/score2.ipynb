{
 "cells": [
  {
   "cell_type": "code",
   "execution_count": null,
   "metadata": {},
   "outputs": [],
   "source": [
    "%load_ext autoreload\n",
    "%autoreload 2\n",
    "%aimport -raw_data_preprocessing -pandas -numpy"
   ]
  },
  {
   "cell_type": "code",
   "execution_count": null,
   "metadata": {},
   "outputs": [],
   "source": [
    "import sys\n",
    "\n",
    "import matplotlib.pyplot as plt\n",
    "import numpy as np\n",
    "import pandas as pd\n",
    "\n",
    "sys.path.append(\"../\")\n",
    "sys.path.append(\"../ukbb_preprocessing/\")\n",
    "\n",
    "from raw_data_preprocessing.raw_data_loader import raw_data_loader\n",
    "from raw_data_preprocessing.constants import *\n",
    "from utils import rename_variables, DataRegisterer, percentile, save_results\n",
    "\n",
    "TEST_EXAMPLE = False\n",
    "loader = raw_data_loader()\n",
    "registerer = DataRegisterer()"
   ]
  },
  {
   "cell_type": "code",
   "execution_count": null,
   "metadata": {},
   "outputs": [],
   "source": [
    "if TEST_EXAMPLE:\n",
    "    pass\n",
    "else:\n",
    "    if os.path.exists(\"cache/df.pkl\"):\n",
    "        print(\"Loading cached df\")\n",
    "        df = pd.read_pickle(\"cache/df.pkl\")\n",
    "    else:\n",
    "        data_asset = loader.ws.data.get(name=\"clin_ascvd\", version=\"6\")\n",
    "        df = pd.read_csv(data_asset.path)\n",
    "        df.index = df.IID.astype(int)\n",
    "        df.to_pickle(\"cache/df.pkl\")\n",
    "\n",
    "    if os.path.exists(\"cache/processed_df.pkl\"):\n",
    "        print(\"Loading cached processed_df\")\n",
    "        score = pd.read_pickle(\"cache/processed_df.pkl\")\n",
    "    else:\n",
    "        score = rename_variables(df)\n",
    "        score.to_pickle(\"cache/processed_df.pkl\")"
   ]
  },
  {
   "cell_type": "code",
   "execution_count": null,
   "metadata": {},
   "outputs": [],
   "source": [
    "t2d = loader._load_t2d()\n",
    "score = score.merge(t2d, on=\"IID\", how=\"left\")\n",
    "score[\"t2d\"] = score[\"t2d\"].astype(bool)\n",
    "score[\"t2d_date\"] = pd.to_datetime(score[\"t2d_date\"], format=\"%Y-%m-%d\")\n",
    "score[\"current_smoker\"] = score[\"smoking\"] == 2\n",
    "score[\"prior_diabetes\"] = score[\"diabetes\"] == 1 | (score[\"t2d\"] & (score[\"t2d_date\"].isna() | (score[\"t2d_date\"] < score[\"study_date\"])))\n",
    "score[\"t_age\"] = (score[\"age\"] - 60)/5\n",
    "score[\"t_sbp\"] = (score[\"systolic_blood_pressure\"] - 120)/20\n",
    "\n",
    "score[\"score2_m\"] = 0.4648*score[\"t_age\"] + \\\n",
    "    0.7744*score[\"current_smoker\"] + \\\n",
    "    0.3131*score[\"t_sbp\"] + \\\n",
    "    0.8096*score[\"prior_diabetes\"] + \\\n",
    "    0.1002*score[\"tc\"] + \\\n",
    "   -0.2606*score[\"hdlc\"] + \\\n",
    "   -0.1088*score[\"t_age\"]*score[\"current_smoker\"] + \\\n",
    "   -0.0277*score[\"t_sbp\"]*score[\"t_age\"] + \\\n",
    "   -0.0226*score[\"tc\"]*score[\"t_age\"] + \\\n",
    "    0.0613*score[\"hdlc\"]*score[\"t_age\"] + \\\n",
    "   -0.1272*score[\"prior_diabetes\"]*score[\"t_age\"]\n",
    "\n",
    "score[\"score2_f\"] =  0.3742*score[\"t_age\"] + \\\n",
    "    0.6012*score[\"current_smoker\"] + \\\n",
    "    0.2777*score[\"t_sbp\"] + \\\n",
    "    0.6457*score[\"prior_diabetes\"] + \\\n",
    "    0.1458*score[\"tc\"] + \\\n",
    "   -0.2698*score[\"hdlc\"] + \\\n",
    "   -0.0755*score[\"t_age\"]*score[\"current_smoker\"] + \\\n",
    "   -0.0255*score[\"t_sbp\"]*score[\"t_age\"] + \\\n",
    "   -0.0281*score[\"tc\"]*score[\"t_age\"] + \\\n",
    "    0.0426*score[\"hdlc\"]*score[\"t_age\"] + \\\n",
    "   -0.0983*score[\"prior_diabetes\"]*score[\"t_age\"]\n",
    "\n",
    "score[\"y_score\"] = np.where(score[\"sex\"] == 1, score[\"score2_m\"], score[\"score2_f\"])\n",
    "\n",
    "# compute top quantile by sex as threshold\n",
    "thresholds = score[['sex', 'y_score']].groupby(\"sex\").aggregate(percentile(0.95))\n",
    "thresholds = thresholds.reset_index()\n",
    "thresholds.columns = [\"sex\", \"threshold\"]\n",
    "\n",
    "score = score.reset_index().merge(thresholds, on=\"sex\", how=\"left\").set_index('IID')\n",
    "score[\"y_pred\"] = score[\"y_score\"] > score[\"threshold\"]\n",
    "\n",
    "score = score[['y_score', 'y_pred']]\n",
    "save_results(score, \"results/score2\")"
   ]
  }
 ],
 "metadata": {
  "kernelspec": {
   "display_name": "azureml_py310_sdkv2",
   "language": "python",
   "name": "python3"
  },
  "language_info": {
   "codemirror_mode": {
    "name": "ipython",
    "version": 3
   },
   "file_extension": ".py",
   "mimetype": "text/x-python",
   "name": "python",
   "nbconvert_exporter": "python",
   "pygments_lexer": "ipython3",
   "version": "3.10.10"
  }
 },
 "nbformat": 4,
 "nbformat_minor": 2
}
