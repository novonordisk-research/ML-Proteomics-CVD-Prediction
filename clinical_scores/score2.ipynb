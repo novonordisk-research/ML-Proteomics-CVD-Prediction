{
 "cells": [
  {
   "cell_type": "code",
   "execution_count": null,
   "metadata": {},
   "outputs": [],
   "source": [
    "%load_ext autoreload\n",
    "%autoreload 2\n",
    "%aimport -raw_data_preprocessing -pandas -numpy"
   ]
  },
  {
   "cell_type": "code",
   "execution_count": null,
   "metadata": {},
   "outputs": [],
   "source": [
    "import sys\n",
    "\n",
    "import matplotlib.pyplot as plt\n",
    "import numpy as np\n",
    "import pandas as pd\n",
    "\n",
    "sys.path.append(\"../\")\n",
    "sys.path.append(\"../ukbb_preprocessing/\")\n",
    "\n",
    "from raw_data_preprocessing.raw_data_loader import raw_data_loader\n",
    "from raw_data_preprocessing.constants import *\n",
    "from utils import rename_variables, DataRegisterer, percentile\n",
    "\n",
    "loader = raw_data_loader()\n",
    "registerer = DataRegisterer()\n",
    "\n",
    "data_asset = loader.ws.data.get(name=\"clin_ascvd\", version=\"6\")\n",
    "df = pd.read_csv(data_asset.path)"
   ]
  },
  {
   "cell_type": "code",
   "execution_count": null,
   "metadata": {},
   "outputs": [],
   "source": [
    "score = rename_variables(df)\n",
    "\n",
    "t2d = loader._load_t2d()\n",
    "score = score.merge(t2d, on=\"IID\", how=\"left\")\n",
    "score[\"t2d\"] = score[\"t2d\"].astype(bool)\n",
    "score[\"t2d_date\"] = pd.to_datetime(score[\"t2d_date\"], format=\"%Y-%m-%d\")\n",
    "score[\"current_smoker\"] = score[\"smoking\"] == 2\n",
    "score[\"prior_diabetes\"] = score[\"diabetes\"] == 1 | (score[\"t2d\"] & (score[\"t2d_date\"].isna() | (score[\"t2d_date\"] < score[\"study_date\"])))\n",
    "score[\"t_age\"] = (score[\"age\"] - 60)/5\n",
    "score[\"t_sbp\"] = (score[\"systolic_blood_pressure\"] - 120)/20\n",
    "\n",
    "score[\"score2_m\"] = 0.4648*score[\"t_age\"] + \\\n",
    "    0.7744*score[\"current_smoker\"] + \\\n",
    "    0.3131*score[\"t_sbp\"] + \\\n",
    "    0.8096*score[\"prior_diabetes\"] + \\\n",
    "    0.1002*score[\"tc\"] + \\\n",
    "   -0.2606*score[\"hdlc\"] + \\\n",
    "   -0.1088*score[\"t_age\"]*score[\"current_smoker\"] + \\\n",
    "   -0.0277*score[\"t_sbp\"]*score[\"t_age\"] + \\\n",
    "   -0.0226*score[\"tc\"]*score[\"t_age\"] + \\\n",
    "    0.0613*score[\"hdlc\"]*score[\"t_age\"] + \\\n",
    "   -0.1272*score[\"prior_diabetes\"]*score[\"t_age\"]\n",
    "\n",
    "score[\"score2_f\"] =  0.3742*score[\"t_age\"] + \\\n",
    "    0.6012*score[\"current_smoker\"] + \\\n",
    "    0.2777*score[\"t_sbp\"] + \\\n",
    "    0.6457*score[\"prior_diabetes\"] + \\\n",
    "    0.1458*score[\"tc\"] + \\\n",
    "   -0.2698*score[\"hdlc\"] + \\\n",
    "   -0.0755*score[\"t_age\"]*score[\"current_smoker\"] + \\\n",
    "   -0.0255*score[\"t_sbp\"]*score[\"t_age\"] + \\\n",
    "   -0.0281*score[\"tc\"]*score[\"t_age\"] + \\\n",
    "    0.0426*score[\"hdlc\"]*score[\"t_age\"] + \\\n",
    "   -0.0983*score[\"prior_diabetes\"]*score[\"t_age\"]\n",
    "\n",
    "score[\"y_score\"] = np.where(score[\"sex\"] == 1, score[\"score2_m\"], score[\"score2_f\"])\n",
    "\n",
    "# compute top quantile by sex as threshold\n",
    "thresholds = score[['sex', 'y_score']].groupby(\"sex\").aggregate(percentile(0.95))\n",
    "thresholds = thresholds.reset_index()\n",
    "thresholds.columns = [\"sex\", \"threshold\"]\n",
    "\n",
    "score = score.reset_index().merge(thresholds, on=\"sex\", how=\"left\").set_index('IID')\n",
    "score[\"y_pred\"] = score[\"y_score\"] > score[\"threshold\"]\n",
    "\n",
    "save_results(score, \"results/score2\")"
   ]
  },
  {
   "cell_type": "code",
   "execution_count": null,
   "metadata": {},
   "outputs": [],
   "source": [
    "old_scores = pd.read_csv('clinical_scores.tsv', sep='\\t')\n",
    "old_scores['IID'] = old_scores['eid']\n",
    "old_scores = old_scores.set_index('IID')\n",
    "merged = old_scores.merge(score, on='IID', how='left', suffixes=('_old', '_new'))\n",
    "\n",
    "plt.scatter(merged['score2'], merged['y_score'], c=merged[\"y_pred\"])\n",
    "plt.xlabel('old')\n",
    "plt.ylabel('new')\n",
    "plt.show()\n",
    "\n",
    "assert merged['score2'].corr(merged['y_score']) > 0.99"
   ]
  }
 ],
 "metadata": {
  "kernelspec": {
   "display_name": "azureml_py310_sdkv2",
   "language": "python",
   "name": "python3"
  },
  "language_info": {
   "codemirror_mode": {
    "name": "ipython",
    "version": 3
   },
   "file_extension": ".py",
   "mimetype": "text/x-python",
   "name": "python",
   "nbconvert_exporter": "python",
   "pygments_lexer": "ipython3",
   "version": "3.10.10"
  }
 },
 "nbformat": 4,
 "nbformat_minor": 2
}
