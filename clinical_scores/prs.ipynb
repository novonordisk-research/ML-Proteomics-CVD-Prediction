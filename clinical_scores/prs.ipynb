{
 "cells": [
  {
   "cell_type": "code",
   "execution_count": null,
   "metadata": {},
   "outputs": [],
   "source": [
    "%load_ext autoreload\n",
    "%autoreload 2\n",
    "%aimport -raw_data_preprocessing -pandas -numpy"
   ]
  },
  {
   "cell_type": "code",
   "execution_count": null,
   "metadata": {},
   "outputs": [],
   "source": [
    "import sys\n",
    "\n",
    "import pandas as pd\n",
    "import numpy as np\n",
    "\n",
    "sys.path.append(\"../\")\n",
    "sys.path.append(\"../ukbb_preprocessing/\")\n",
    "\n",
    "from raw_data_preprocessing.raw_data_loader import raw_data_loader\n",
    "from raw_data_preprocessing.constants import *\n",
    "from utils import rename_variables, DataRegisterer, percentile, save_results\n",
    "\n",
    "loader = raw_data_loader()\n",
    "registerer = DataRegisterer()\n",
    "\n",
    "data_asset = loader.ws.data.get(name=\"clin_ascvd\", version=\"6\")"
   ]
  },
  {
   "cell_type": "code",
   "execution_count": null,
   "metadata": {},
   "outputs": [],
   "source": [
    "df = pd.read_csv(data_asset.path)\n",
    "prs_df = rename_variables(df)\n",
    "df.set_index('IID', inplace=True)\n",
    "cols = prs_df.columns.str.startswith('eprs') | prs_df.columns.str.startswith('prs') | prs_df.columns.str.startswith('ascvd_')\n",
    "prs_df = prs_df.loc[:, cols]"
   ]
  },
  {
   "cell_type": "markdown",
   "metadata": {},
   "source": [
    "# QC"
   ]
  },
  {
   "cell_type": "code",
   "execution_count": null,
   "metadata": {},
   "outputs": [],
   "source": [
    "# compute auc\n",
    "from sklearn.metrics import roc_auc_score\n",
    "\n",
    "for disease in [\"cad\", \"cvd\", \"ht\", \"iss\"]:\n",
    "    print(disease.upper())\n",
    "    for prs in [\"prs\", \"eprs\"]:\n",
    "\n",
    "        y_true = df.ascvd_10yr_label.values\n",
    "        y_score = prs_df[f\"{prs}_{disease}\"].values\n",
    "\n",
    "        mask = ~np.isnan(y_true) & ~np.isnan(y_score)\n",
    "        y_true = y_true[mask]\n",
    "        y_score = y_score[mask]\n",
    "\n",
    "        print(f\"\\t{prs.upper()}:\\t{roc_auc_score(y_true, y_score)}\")"
   ]
  },
  {
   "cell_type": "markdown",
   "metadata": {},
   "source": [
    "# Save"
   ]
  },
  {
   "cell_type": "code",
   "execution_count": null,
   "metadata": {},
   "outputs": [],
   "source": [
    "for disease in [\"cad\", \"cvd\", \"ht\", \"iss\"]:\n",
    "\n",
    "    tag = f\"prs_{disease}\"\n",
    "\n",
    "    score = prs_df[[tag]].copy()\n",
    "    score[\"y_score\"] = score[tag]\n",
    "\n",
    "    threshold = score['y_score'].aggregate(percentile(0.95))\n",
    "\n",
    "    score[\"y_pred\"] = (score[\"y_score\"] > threshold).astype(int)\n",
    "\n",
    "    score = score[['y_score', 'y_pred']]\n",
    "    save_results(score, f\"results/{tag}\")"
   ]
  }
 ],
 "metadata": {
  "kernelspec": {
   "display_name": "azureml_py310_sdkv2",
   "language": "python",
   "name": "python3"
  },
  "language_info": {
   "codemirror_mode": {
    "name": "ipython",
    "version": 3
   },
   "file_extension": ".py",
   "mimetype": "text/x-python",
   "name": "python",
   "nbconvert_exporter": "python",
   "pygments_lexer": "ipython3",
   "version": "3.10.10"
  }
 },
 "nbformat": 4,
 "nbformat_minor": 2
}
