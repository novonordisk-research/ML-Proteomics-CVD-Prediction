{
 "cells": [
  {
   "cell_type": "code",
   "execution_count": null,
   "metadata": {},
   "outputs": [],
   "source": [
    "%load_ext autoreload\n",
    "%autoreload 2\n",
    "%aimport -raw_data_preprocessing -pandas -numpy"
   ]
  },
  {
   "cell_type": "code",
   "execution_count": null,
   "metadata": {
    "gather": {
     "logged": 1691755855166
    }
   },
   "outputs": [],
   "source": [
    "import sys\n",
    "\n",
    "import pandas as pd\n",
    "import numpy as np\n",
    "\n",
    "sys.path.append(\"../\")\n",
    "sys.path.append(\"../ukbb_preprocessing/\")\n",
    "\n",
    "from raw_data_preprocessing.raw_data_loader import raw_data_loader\n",
    "from raw_data_preprocessing.constants import *\n",
    "from utils import rename_variables, DataRegisterer, percentile, save_results\n",
    "\n",
    "loader = raw_data_loader()\n",
    "registerer = DataRegisterer()\n",
    "\n",
    "data_asset = loader.ws.data.get(name=\"clin_ascvd\", version=\"6\")"
   ]
  },
  {
   "cell_type": "markdown",
   "metadata": {},
   "source": [
    "# Read data and preprocessing"
   ]
  },
  {
   "cell_type": "code",
   "execution_count": null,
   "metadata": {
    "gather": {
     "logged": 1691755941668
    }
   },
   "outputs": [],
   "source": [
    "df = pd.read_csv(data_asset.path)\n",
    "qrisk_df = rename_variables(df)\n",
    "df.set_index('IID', inplace=True)\n",
    "\n",
    "# compute HR variability\n",
    "qrisk_df[\"sbp_0_deviation\"] = df[\"p4080_i0_a0\"] - qrisk_df[\"systolic_blood_pressure\"]\n",
    "qrisk_df[\"sbp_1_deviation\"] = df[\"p4080_i0_a1\"] - qrisk_df[\"systolic_blood_pressure\"]\n",
    "qrisk_df[\"sbp_0_sq_deviation\"] = qrisk_df[\"sbp_0_deviation\"]**2\n",
    "qrisk_df[\"sbp_1_sq_deviation\"] = qrisk_df[\"sbp_1_deviation\"]**2\n",
    "qrisk_df[\"sbp_mean_deviation\"] = (qrisk_df[\"sbp_0_sq_deviation\"] + qrisk_df[\"sbp_1_sq_deviation\"])/2\n",
    "qrisk_df[\"sd_sbp\"] = np.sqrt(qrisk_df[\"sbp_mean_deviation\"])\n",
    "\n",
    "qrisk_df.drop([\"sbp_0_deviation\", \"sbp_1_deviation\", \"sbp_0_sq_deviation\", \"sbp_1_sq_deviation\", \"sbp_mean_deviation\"], axis=1, inplace=True)"
   ]
  },
  {
   "cell_type": "code",
   "execution_count": null,
   "metadata": {},
   "outputs": [],
   "source": [
    "# # test example from the article\n",
    "# # Table 6 at https://www.bmj.com/content/357/bmj.j2099\n",
    "# qrisk_df = pd.DataFrame({\n",
    "#     'IID': [1, 2, 3, 4, 5, 6],\n",
    "#     # Sex\tMale\tMale\tMale\tFemale\tFemale\tMale\n",
    "#     'sex': [1, 1, 1, 0, 0, 1],\n",
    "#     # Age (years)\t44\t45\t48\t55\t61\t48\n",
    "#     'age': [44, 45, 48, 55, 61, 48],\n",
    "#     # Body mass index\t27.2\t22.4\t29.7\t24.9\t33.7\t30\n",
    "#     'bmi': [27.2, 22.4, 29.7, 24.9, 33.7, 30],\n",
    "#     # Total cholesterol: HDL cholesterol ratio\t6.1\t6.3\t5\t3.2\t4.8\t4.2\n",
    "#     'rati': [6.1, 6.3, 5, 3.2, 4.8, 4.2],\n",
    "#     # Systolic blood pressure\t130\t115\t124\t130\t155\t140\n",
    "#     'systolic_blood_pressure': [130, 115, 124, 130, 155, 140],\n",
    "#     # Family history of coronary heart disease\tNo\tNo\tNo\tYes\tNo\tNo\n",
    "#     'sibling_illnesses': ['0', '0', '0', '1', '0', '0'],\n",
    "#     'mother_illnesses': ['0', '0', '0', '0', '0', '0'],\n",
    "#     'father_illnesses': ['0', '0', '0', '0', '0', '0'],\n",
    "#     # Treated hypertension\tNo \tNo \tNo \tNo \tNo \tYes\n",
    "#     # Corticosteroid use\tNo \tNo \tYes\tNo \tNo \tNo\n",
    "#     # Atypical antipsychotic use\tNo \tNo \tNo \tNo \tYes \tNo\n",
    "#     # Erectile dysfunction or treatment\tNo \tYes\tNo \tNA\tNA\tNo\n",
    "#     'medications': [[], [1140869100], [1140853854], [], [1140867420], [1140860332]],\n",
    "#     # Type 1 diabetes\tNo\tNo \tNo \tNo \tNo \tNo\n",
    "#     # Type 2 diabetes\tNo \tYes\tNo \tNo \tNo \tNo\n",
    "#     # Rheumatoid arthritis\tNo \tNo \tNo \tNo \tNo \tNo\n",
    "#     # Atrial fibrillation\tNo \tNo \tNo \tNo \tNo \tNo\n",
    "#     # Chronic kidney disease (stage 3, 4, or 5)\tNo \tNo \tNo \tNo \tNo \tNo\n",
    "#     # Migraine\tYes\tNo \tYes\tNo \tNo \tYes\n",
    "#     # Severe mental illness\tNo \tNo \tNo \tNo \tYes \tNo\n",
    "#     # Systemic lupus erythematosus\tNo \tNo \tNo \tNo \tNo \tNo\n",
    "#     'icd10_diagnoses': [[\"G43\"], [\"E11\"], [\"G43\"], [], [\"F20\"], [\"G43\"]],\n",
    "#     'icd9_diagnoses': [[], [], [], [], [], []],\n",
    "#     # Standard deviation of systolic blood pressure\t6\t40\t3.1\t22\t33\tNo\n",
    "#     'sd_sbp': [6, 40, 3.1, 22, 33, np.nan],\n",
    "#     # fields not present in the example\n",
    "#     'tdi': [0, 0, 0, 0, 0, 0],\n",
    "# })\n",
    "# qrisk_df.set_index('IID', inplace=True)\n",
    "\n",
    "# df = pd.DataFrame({\n",
    "#     'IID': [1, 2, 3, 4, 5, 6],\n",
    "#     # Ethnic origin\tWhite\tWhite\tWhite\tWhite\tBlack African\tWhite\n",
    "#     'p21000_i0': [1001, 1001, 1001, 1001, 2002, 1001],\n",
    "#     # Smoking status\tHeavy smoker\tNon-smoker\tLight smoker\tModerate smoker\tFormer smoker\tNon-smoker\n",
    "#     'p20116_i0': [2, 0, 2, 2, 1, 0],\n",
    "#     'p3456_i0': [40, 0, 5, 15, 1, 0], # random values within the category\n",
    "#     # random outcome\n",
    "#     'ascvd_10yr_label': [1, 0, 0, 1, 0, 0],\n",
    "# })\n",
    "# df.set_index('IID', inplace=True)\n",
    "# # Expected:\n",
    "# # Model A 10 year predicted risk\t9.2\t8.3\t6.4\t11\t9.4\t9.2\n",
    "# # Model B 10 year predicted risk\t11\t9.9\t11\t10\t13\t11\n",
    "# # Model C 10 year predicted risk\t11\t13\t11\t11\t15\t9.5"
   ]
  },
  {
   "cell_type": "code",
   "execution_count": null,
   "metadata": {},
   "outputs": [],
   "source": [
    "# smoke_cat\n",
    "# 0 \"Never\"\n",
    "# 1 \"Former\"\n",
    "# 2 \"Light 1-9/day\"\n",
    "# 3 \"Moderate 10-19/day\"\n",
    "# 4 \"Heavy >20/day\"\n",
    "qrisk_df[\"smoke_cat\"] = np.nan\n",
    "qrisk_df.loc[df[\"p20116_i0\"] == 0, \"smoke_cat\"] = 0\n",
    "qrisk_df.loc[(df[\"p20116_i0\"] == 1) & (qrisk_df[\"smoke_cat\"].isna()), \"smoke_cat\"] = 1\n",
    "qrisk_df.loc[(df[\"p3456_i0\"] >= -10) & (df[\"p3456_i0\"] <= 9) & (qrisk_df[\"smoke_cat\"].isna()), \"smoke_cat\"] = 2\n",
    "qrisk_df.loc[(df[\"p3456_i0\"] >= 10) & (df[\"p3456_i0\"] <= 19) & (qrisk_df[\"smoke_cat\"].isna()), \"smoke_cat\"] = 3\n",
    "qrisk_df.loc[(df[\"p3456_i0\"] >= 20) & (qrisk_df[\"smoke_cat\"].isna()), \"smoke_cat\"] = 4"
   ]
  },
  {
   "cell_type": "code",
   "execution_count": null,
   "metadata": {
    "gather": {
     "logged": 1691755980050
    }
   },
   "outputs": [],
   "source": [
    "# medications\n",
    "antihypertensives = [\n",
    "    1140860332, 1140860334, 1140860336, 1140860338, 1140860340, 1140860342,\n",
    "    1140860348, 1140860352, 1140860356, 1140860358, 1140860362, 1140860380,\n",
    "    1140860382, 1140860386, 1140860390, 1140860394, 1140860396, 1140860398,\n",
    "    1140860402, 1140860404, 1140860406, 1140860410, 1140860418, 1140860422,\n",
    "    1140860426, 1140860434, 1140860454, 1140860470, 1140860478, 1140860492,\n",
    "    1140860498, 1140860520, 1140860532, 1140860534, 1140860544, 1140860552,\n",
    "    1140860558, 1140860562, 1140860564, 1140860580, 1140860590, 1140860610,\n",
    "    1140860628, 1140860632, 1140860638, 1140860654, 1140860658, 1140860690,\n",
    "    1140860696, 1140860706, 1140860714, 1140860728, 1140860736, 1140860738,\n",
    "    1140860750, 1140860752, 1140860758, 1140860764, 1140860776, 1140860784,\n",
    "    1140860790, 1140860802, 1140860806, 1140860828, 1140860830, 1140860834,\n",
    "    1140860836, 1140860838, 1140860840, 1140860842, 1140860846, 1140860848,\n",
    "    1140860862, 1140860878, 1140860882, 1140860892, 1140860904, 1140860912,\n",
    "    1140860918, 1140860938, 1140860942, 1140860952, 1140860954, 1140860966,\n",
    "    1140860972, 1140860976, 1140860982, 1140860988, 1140860994, 1140861000,\n",
    "    1140861002, 1140861008, 1140861010, 1140861016, 1140861022, 1140861024,\n",
    "    1140861034, 1140861046, 1140861068, 1140861070, 1140861088, 1140861090,\n",
    "    1140861106, 1140861110, 1140861114, 1140861120, 1140861128, 1140861130,\n",
    "    1140861136, 1140861138, 1140861166, 1140861176, 1140861190, 1140861194,\n",
    "    1140861202, 1140861266, 1140861268, 1140861276, 1140861282, 1140861326,\n",
    "    1140861384, 1140864950, 1140864952, 1140866072, 1140866074, 1140866078,\n",
    "    1140866084, 1140866086, 1140866090, 1140866092, 1140866094, 1140866096,\n",
    "    1140866102, 1140866104, 1140866108, 1140866110, 1140866116, 1140866122,\n",
    "    1140866128, 1140866132, 1140866136, 1140866138, 1140866140, 1140866144,\n",
    "    1140866146, 1140866156, 1140866158, 1140866162, 1140866164, 1140866168,\n",
    "    1140866182, 1140866192, 1140866194, 1140866200, 1140866202, 1140866206,\n",
    "    1140866210, 1140866212, 1140866220, 1140866222, 1140866226, 1140866230,\n",
    "    1140866232, 1140866236, 1140866244, 1140866248, 1140866262, 1140866280,\n",
    "    1140866282, 1140866306, 1140866308, 1140866312, 1140866318, 1140866324,\n",
    "    1140866328, 1140866330, 1140866332, 1140866334, 1140866340, 1140866352,\n",
    "    1140866354, 1140866356, 1140866360, 1140866388, 1140866390, 1140866396,\n",
    "    1140866400, 1140866402, 1140866404, 1140866406, 1140866408, 1140866410,\n",
    "    1140866412, 1140866416, 1140866418, 1140866420, 1140866422, 1140866426,\n",
    "    1140866438, 1140866440, 1140866442, 1140866444, 1140866446, 1140866448,\n",
    "    1140866450, 1140866460, 1140866466, 1140866484, 1140866506, 1140866546,\n",
    "    1140866554, 1140866692, 1140866704, 1140866712, 1140866724, 1140866726,\n",
    "    1140866738, 1140866756, 1140866758, 1140866764, 1140866766, 1140866778,\n",
    "    1140866782, 1140866784, 1140866798, 1140866800, 1140866802, 1140866804,\n",
    "    1140875808, 1140879758, 1140879760, 1140879762, 1140879778, 1140879782,\n",
    "    1140879786, 1140879794, 1140879798, 1140879802, 1140879806, 1140879810,\n",
    "    1140879818, 1140879822, 1140879824, 1140879826, 1140879830, 1140879834,\n",
    "    1140879842, 1140879854, 1140879866, 1140888510, 1140888512, 1140888552,\n",
    "    1140888556, 1140888560, 1140888578, 1140888582, 1140888586, 1140888646,\n",
    "    1140888686, 1140888760, 1140888762, 1140909368, 1140911698, 1140916356,\n",
    "    1140916362, 1140917428, 1140923572, 1140923712, 1140923718, 1140926778,\n",
    "    1140926780, 1141145658, 1141145660, 1141145668, 1141151016, 1141151018,\n",
    "    1141151382, 1141152600, 1141152998, 1141153006, 1141153026, 1141153032,\n",
    "    1141153328, 1141156754, 1141156808, 1141156836, 1141156846, 1141157252,\n",
    "    1141157254, 1141164148, 1141164154, 1141164276, 1141164280, 1141165470,\n",
    "    1141165476, 1141166006, 1141167822, 1141167832, 1141171152, 1141171336,\n",
    "    1141171344, 1141172682, 1141172686, 1141172698, 1141173888, 1141180592,\n",
    "    1141180598, 1141187788, 1141187790, 1141190160, 1141192064, 1141193282,\n",
    "    1141193346, 1141194794, 1141194800, 1141194804, 1141194808, 1141194810,\n",
    "    1141201038, 1141201040]\n",
    "antipsychotics = [\n",
    "    1140867420, 1140867432, 1140867444, 1140927956, 1140927970,\n",
    "\t1140928916, 1141152848, 1141152860, 1141153490, 1141167976,\n",
    "\t1141177762, 1141195974, 1141202024\n",
    "]\n",
    "erectile_dysfunction_drugs = [\n",
    "    1140869100, 1140883010, 1141168936, 1141168944, 1141168946,\n",
    "    1141168948, 1141187810, 1141187814, 1141187818, 1141192248, \n",
    "    1141192256, 1141192258, 1141192260\n",
    "]\n",
    "statins = [1141146234, 1140888594, 1140888648, 1141192410, 1140861958]\n",
    "steroids = [\n",
    "    1140853854,\t1140854694,\t1140854700,\t1140854784,\t1140854788,\t1140854816,\n",
    "    1140854834,\t1140854888,\t1140854916,\t1140854990,\t1140857672,\t1140857678,\n",
    "    1140862572,\t1140868364,\t1140868370,\t1140873620,\t1140874790,\t1140874792,\n",
    "    1140874794,\t1140874810,\t1140874814,\t1140874816,\t1140874822,\t1140874896,\n",
    "    1140874930,\t1140874936,\t1140874940,\t1140874944,\t1140874950,\t1140874954,\n",
    "    1140874956,\t1140874976,\t1140874978,\t1140875668,\t1140875684,\t1140876032,\n",
    "    1140876036,\t1140876044,\t1140876046,\t1140876052,\t1140876058,\t1140876076,\n",
    "    1140876104,\t1140876456,\t1140878562,\t1140879922,\t1140879934,\t1140881938,\n",
    "    1140882152,\t1140882622,\t1140882624,\t1140882626,\t1140882630,\t1140882694,\n",
    "    1140882708,\t1140882718,\t1140882722,\t1140882724,\t1140882728,\t1140882730,\n",
    "    1140882732,\t1140882740,\t1140882742,\t1140882756,\t1140882758,\t1140882764,\n",
    "    1140882766,\t1140882768,\t1140882774,\t1140882776,\t1140882778,\t1140882780,\n",
    "    1140882782,\t1140882794,\t1140882800,\t1140882806,\t1140882808,\t1140882816,\n",
    "    1140882818,\t1140882820,\t1140882822,\t1140882824,\t1140882826,\t1140882830,\n",
    "    1140882832,\t1140882836,\t1140882840,\t1140882842,\t1140882844,\t1140882846,\n",
    "    1140882848,\t1140882850,\t1140882852,\t1140882864,\t1140882888,\t1140882892,\n",
    "    1140882894,\t1140882896,\t1140882898,\t1140882902,\t1140882904,\t1140882906,\n",
    "    1140882908,\t1140882910,\t1140882914,\t1140882916,\t1140882918,\t1140882920,\n",
    "    1140882926,\t1140882928,\t1140882932,\t1140882934,\t1140882938,\t1140883022,\n",
    "    1140883026,\t1140883028,\t1140883030,\t1140883034,\t1140883038,\t1140883040,\n",
    "    1140883044,\t1140883048,\t1140883052,\t1140883054,\t1140883056,\t1140883058,\n",
    "    1140883060,\t1140883062,\t1140883064,\t1140884636,\t1140884640,\t1140884642,\n",
    "    1140884646,\t1140884654,\t1140884660,\t1140884664,\t1140884672,\t1140884676,\n",
    "    1140884696,\t1140884700,\t1140884704,\t1140884716,\t1140888074,\t1140888092,\n",
    "    1140888098,\t1140888124,\t1140888130,\t1140888134,\t1140888142,\t1140888150,\n",
    "    1140888166,\t1140888168,\t1140888172,\t1140888176,\t1140888178,\t1140888184,\n",
    "    1140888194,\t1140909786,\t1140909894,\t1140910424,\t1140910634,\t1141151424,\n",
    "    1141157294,\t1141157402,\t1141157418,\t1141162532,\t1141164086,\t1141167174,\n",
    "    1141169844,\t1141173346,\t1141174512,\t1141174520,\t1141174548,\t1141174552,\n",
    "    1141179072,\t1141179982,\t1141180342,\t1141181062,\t1141181554,\t1141181610,\n",
    "    1141189464, 1141191748, 1141194840, 1141195232, 1141195280\n",
    "]\n",
    "\n",
    "def binarize_column(values, ori_colname, colname):\n",
    "    qrisk_df[colname] = 0\n",
    "\n",
    "    mask = np.repeat(False, len(qrisk_df))\n",
    "\n",
    "    for v in values:\n",
    "        curr_mask = [(str(v) in x) for x in qrisk_df[ori_colname].values]\n",
    "        curr_mask = np.array(curr_mask)\n",
    "        mask = mask | curr_mask\n",
    "\n",
    "    qrisk_df.loc[mask, colname] = 1\n",
    "\n",
    "binarize_column(antihypertensives, 'medications', 'b_treatedhyp')\n",
    "binarize_column(antipsychotics, 'medications', 'b_atypicalantipsy')\n",
    "binarize_column(erectile_dysfunction_drugs, 'medications', 'erectile_dysfunction')\n",
    "binarize_column(statins, 'medications', 'statin')\n",
    "binarize_column(steroids, 'medications', 'b_corticosteroids')\n",
    "\n",
    "# Statin treatment\n",
    "# 0 \"No Statin\"\n",
    "# 1 \"Atorvastatin\"\n",
    "# 2 \"Fluvastatin\"\n",
    "# 3 \"Pravastatin\"\n",
    "# 4 \"Rosuvastatin\"\n",
    "# 5 \"Simvastatin\"\n",
    "qrisk_df['statin_category'] = 0\n",
    "\n",
    "for i, statin in enumerate(statins):\n",
    "    qrisk_df.loc[qrisk_df['medications'].str.contains(statin, regex=False), 'statin_category'] = i + 1"
   ]
  },
  {
   "cell_type": "code",
   "execution_count": null,
   "metadata": {
    "gather": {
     "logged": 1691755985457
    }
   },
   "outputs": [],
   "source": [
    "# diseases\n",
    "binarize_column([\"M05\"], 'icd10_diagnoses', 'b_ra_icd10')\n",
    "binarize_column([\"E10\"], 'icd10_diagnoses', 'b_type1_icd10')\n",
    "binarize_column([\"E11\"], 'icd10_diagnoses', 'b_type2_icd10')\n",
    "binarize_column([\"M329\"], 'icd10_diagnoses', 'b_sle_icd10')\n",
    "binarize_column([\"I48\"], 'icd10_diagnoses', 'b_AF_icd10')\n",
    "binarize_column([\"N183\", \"N184\", \"N185\"], 'icd10_diagnoses', 'b_renal_icd10')\n",
    "binarize_column([\"G43\"], 'icd10_diagnoses', 'b_migraine_icd10')\n",
    "binarize_column([\"B20\"], 'icd10_diagnoses', 'b_hiv_tochange_icd10')\n",
    "binarize_column([\"N52\"], 'icd10_diagnoses', 'b_impotence2_icd10')\n",
    "binarize_column([\"F20\", \"F23\", \"F31\", \"F32\", \"F33\"], 'icd10_diagnoses', 'b_semi_icd10')\n",
    "\n",
    "\n",
    "binarize_column([\"714\"], 'icd9_diagnoses', 'b_ra_icd9')\n",
    "binarize_column([\"2500\", \"25001\", \"2501\", \"25011\", \"25013\", \"2504\", \n",
    "                 \"25041\", \"25043\", \"2505\", \"25051\", \"25053\", \"2506\", \n",
    "                 \"25061\", \"25063\", \"2507\", \"25071\", \"25073\", \"2509\", \n",
    "                 \"25091\", \"25093\"], 'icd9_diagnoses', 'b_type1_icd9')\n",
    "binarize_column([\"2500\", \"25000\", \"25002\", \"2501\", \"25010\", \"25012\", \n",
    "                 \"2504\", \"25040\", \"25042\", \"2505\", \"25050\", \"25052\",\n",
    "                 \"2506\", \"25062\", \"2507\", \"25070\", \"25072\", \"2509\", \n",
    "                 \"25090\", \"25092\"], 'icd9_diagnoses', 'b_type2_icd9')\n",
    "binarize_column([\"710\"], 'icd9_diagnoses', 'b_sle_icd9')\n",
    "binarize_column([\"42731\"], 'icd9_diagnoses', 'b_AF_icd9')\n",
    "binarize_column([\"5853\", \"5854\", \"5855\"], 'icd9_diagnoses', 'b_renal_icd9')\n",
    "binarize_column([\"346\"], 'icd9_diagnoses', 'b_migraine_icd9')\n",
    "binarize_column([\"042\", \"79571\"], 'icd9_diagnoses', 'b_hiv_tochange_icd9')\n",
    "binarize_column([\"60784\"], 'icd9_diagnoses', 'b_impotence2_icd9')\n",
    "binarize_column([\"2953\", \"29581\", \"29582\", \"2964\", \"2965\", \n",
    "                 \"2967\", \"2968\", \"2962\", \"2963\"], 'icd9_diagnoses', 'b_semi_icd9')\n",
    "\n",
    "qrisk_df[\"b_ra\"] = (qrisk_df[\"b_ra_icd9\"] + qrisk_df[\"b_ra_icd10\"]).astype(bool).astype(int)\n",
    "qrisk_df[\"b_type1\"] = (qrisk_df[\"b_type1_icd9\"] + qrisk_df[\"b_type1_icd10\"]).astype(bool).astype(int)\n",
    "qrisk_df[\"b_type2\"] = (qrisk_df[\"b_type2_icd9\"] + qrisk_df[\"b_type2_icd10\"]).astype(bool).astype(int)\n",
    "qrisk_df[\"b_sle\"] = (qrisk_df[\"b_sle_icd9\"] + qrisk_df[\"b_sle_icd10\"]).astype(bool).astype(int)\n",
    "qrisk_df[\"b_AF\"] = (qrisk_df[\"b_AF_icd9\"] + qrisk_df[\"b_AF_icd10\"]).astype(bool).astype(int)\n",
    "qrisk_df[\"b_renal\"] = (qrisk_df[\"b_renal_icd9\"] + qrisk_df[\"b_renal_icd10\"]).astype(bool).astype(int)\n",
    "qrisk_df[\"b_migraine\"] = (qrisk_df[\"b_migraine_icd9\"] + qrisk_df[\"b_migraine_icd10\"]).astype(bool).astype(int)\n",
    "qrisk_df[\"b_hiv_tochange\"] = (qrisk_df[\"b_hiv_tochange_icd9\"] + qrisk_df[\"b_hiv_tochange_icd10\"]).astype(bool).astype(int)\n",
    "qrisk_df[\"b_impotence2\"] = (qrisk_df[\"b_impotence2_icd9\"] + qrisk_df[\"b_impotence2_icd10\"]).astype(bool).astype(int)\n",
    "qrisk_df[\"b_semi\"] = (qrisk_df[\"b_semi_icd9\"] + qrisk_df[\"b_semi_icd10\"]).astype(bool).astype(int)"
   ]
  },
  {
   "cell_type": "code",
   "execution_count": null,
   "metadata": {
    "gather": {
     "logged": 1691755985848
    }
   },
   "outputs": [],
   "source": [
    "# Age & BMI: adjust units\n",
    "qrisk_df[\"dage\"] = qrisk_df[\"age\"]/10\n",
    "qrisk_df[\"dbmi\"] = qrisk_df[\"bmi\"]/10"
   ]
  },
  {
   "cell_type": "code",
   "execution_count": null,
   "metadata": {
    "gather": {
     "logged": 1691755985970
    }
   },
   "outputs": [],
   "source": [
    "# smoke_cat\n",
    "# 0 \"Never\"\n",
    "# 1 \"Former\"\n",
    "# 2 \"Light 1-9/day\"\n",
    "# 3 \"Moderate 10-19/day\"\n",
    "# 4 \"Heavy >20/day\"\n",
    "qrisk_df[\"smoke_cat\"] = np.nan\n",
    "qrisk_df.loc[df[\"p20116_i0\"] == 0, \"smoke_cat\"] = 0\n",
    "qrisk_df.loc[(df[\"p20116_i0\"] == 1) & (qrisk_df[\"smoke_cat\"].isna()), \"smoke_cat\"] = 1\n",
    "qrisk_df.loc[(df[\"p3456_i0\"] >= -10) & (df[\"p3456_i0\"] <= 9) & (qrisk_df[\"smoke_cat\"].isna()), \"smoke_cat\"] = 2\n",
    "qrisk_df.loc[(df[\"p3456_i0\"] >= 10) & (df[\"p3456_i0\"] <= 19) & (qrisk_df[\"smoke_cat\"].isna()), \"smoke_cat\"] = 3\n",
    "qrisk_df.loc[(df[\"p3456_i0\"] >= 20) & (qrisk_df[\"smoke_cat\"].isna()), \"smoke_cat\"] = 4"
   ]
  },
  {
   "cell_type": "code",
   "execution_count": null,
   "metadata": {
    "gather": {
     "logged": 1691755986350
    }
   },
   "outputs": [],
   "source": [
    "family_history = qrisk_df[\"sibling_illnesses\"].str.contains('1', regex=False) | \\\n",
    "     qrisk_df[\"mother_illnesses\"].str.contains('1', regex=False) | \\\n",
    "     qrisk_df[\"father_illnesses\"].str.contains('1', regex=False)\n",
    "qrisk_df[\"family_history_cvd\"] = 0\n",
    "qrisk_df.loc[family_history, \"family_history_cvd\"] = 1"
   ]
  },
  {
   "cell_type": "code",
   "execution_count": null,
   "metadata": {
    "gather": {
     "logged": 1691755986860
    }
   },
   "outputs": [],
   "source": [
    "# ethnicity\n",
    "# 1 \"white\"\n",
    "# 2 \"Indian\"\n",
    "# 3 \"Pakistani\"\n",
    "# 4 \"Bangladeshi\"\n",
    "# 5 \"Other Asian\"\n",
    "# 6 \"Black Caribbean\"\n",
    "# 7 \"Black African\"\n",
    "# 8 \"Chinese\"\n",
    "# 9 \"Other\"\n",
    "qrisk_df[\"ethnicity\"] = np.nan\n",
    "qrisk_df.loc[df[\"p21000_i0\"].isin([1.0, 1001, 1002, 1003]), \"ethnicity\"] = 1\n",
    "qrisk_df.loc[df[\"p21000_i0\"].isin([3001]), \"ethnicity\"] = 2\n",
    "qrisk_df.loc[df[\"p21000_i0\"].isin([3002]), \"ethnicity\"] = 3\n",
    "qrisk_df.loc[df[\"p21000_i0\"].isin([3.0, 3004, 2003]), \"ethnicity\"] = 5\n",
    "qrisk_df.loc[df[\"p21000_i0\"].isin([2001, 4001]), \"ethnicity\"] = 6\n",
    "qrisk_df.loc[df[\"p21000_i0\"].isin([2002, 4002]), \"ethnicity\"] = 7\n",
    "qrisk_df.loc[df[\"p21000_i0\"].isin([5.0]), \"ethnicity\"] = 8\n",
    "qrisk_df.loc[df[\"p21000_i0\"].isin([2.0, 2004, 4.0, 6.0, 4003]), \"ethnicity\"] = 9\n",
    "# Unaccounted for: -1, -3, -4, 1.4, 3.3"
   ]
  },
  {
   "cell_type": "markdown",
   "metadata": {},
   "source": [
    "# Compute QRISK female"
   ]
  },
  {
   "cell_type": "code",
   "execution_count": null,
   "metadata": {
    "gather": {
     "logged": 1691755986963
    }
   },
   "outputs": [],
   "source": [
    "# Applying the fractional polynomial transforms (which includes scaling)\n",
    "qrisk_df[\"age_1_f\"] = qrisk_df[\"dage\"]**(-2)\n",
    "qrisk_df[\"age_2_f\"] = qrisk_df[\"dage\"]\n",
    "qrisk_df[\"bmi_1_f\"] = qrisk_df[\"dbmi\"]**(-2)\n",
    "qrisk_df[\"bmi_2_f\"] = qrisk_df[\"dbmi\"]**(-2)*np.log(qrisk_df[\"dbmi\"])\n",
    "\n",
    "# Centring the continuous variables\n",
    "qrisk_df[\"age_1_f\"] = qrisk_df[\"age_1_f\"] - 0.053274843841791\n",
    "qrisk_df[\"age_2_f\"] = qrisk_df[\"age_2_f\"] - 4.332503318786621\n",
    "qrisk_df[\"bmi_1_f\"] = qrisk_df[\"bmi_1_f\"] - 0.154946178197861\n",
    "qrisk_df[\"bmi_2_f\"] = qrisk_df[\"bmi_2_f\"] - 0.144462317228317\n",
    "qrisk_df[\"rati_f\"] = qrisk_df[\"rati\"] - 3.476326465606690\n",
    "qrisk_df[\"systolic_blood_pressure_f\"] = qrisk_df[\"systolic_blood_pressure\"] - 123.130012512207030\n",
    "qrisk_df[\"sbps5_f\"] = qrisk_df[\"sd_sbp\"] - 9.002537727355957\n",
    "qrisk_df[\"tdi_f\"] = qrisk_df[\"tdi\"] - 0.392308831214905"
   ]
  },
  {
   "cell_type": "code",
   "execution_count": null,
   "metadata": {
    "gather": {
     "logged": 1691755987060
    }
   },
   "outputs": [],
   "source": [
    "# ethnicity\n",
    "qrisk_df[\"qrisk_f\"] = 0\n",
    "qrisk_df.loc[qrisk_df[\"ethnicity\"] == 2, \"qrisk_f\"] += 0.28040314332995425\n",
    "qrisk_df.loc[qrisk_df[\"ethnicity\"] == 3, \"qrisk_f\"] += 0.56298994142075398\n",
    "qrisk_df.loc[qrisk_df[\"ethnicity\"] == 4, \"qrisk_f\"] += 0.29590000851116516\n",
    "qrisk_df.loc[qrisk_df[\"ethnicity\"] == 5, \"qrisk_f\"] += 0.072785379877982545\n",
    "qrisk_df.loc[qrisk_df[\"ethnicity\"] == 6, \"qrisk_f\"] += -0.17072135508857317\n",
    "qrisk_df.loc[qrisk_df[\"ethnicity\"] == 7, \"qrisk_f\"] += -0.39371043314874971\n",
    "qrisk_df.loc[qrisk_df[\"ethnicity\"] == 8, \"qrisk_f\"] += -0.32632495283530272\n",
    "qrisk_df.loc[qrisk_df[\"ethnicity\"] == 9, \"qrisk_f\"] += -0.17127056883241784"
   ]
  },
  {
   "cell_type": "code",
   "execution_count": null,
   "metadata": {
    "gather": {
     "logged": 1691755987165
    }
   },
   "outputs": [],
   "source": [
    "# smoke\n",
    "qrisk_df.loc[qrisk_df[\"smoke_cat\"] == 1, \"qrisk_f\"] += 0.13386833786546262\n",
    "qrisk_df.loc[qrisk_df[\"smoke_cat\"] == 2, \"qrisk_f\"] += 0.56200858012438537\n",
    "qrisk_df.loc[qrisk_df[\"smoke_cat\"] == 3, \"qrisk_f\"] += 0.66749593377502547\n",
    "qrisk_df.loc[qrisk_df[\"smoke_cat\"] == 4, \"qrisk_f\"] += 0.84948177644830847"
   ]
  },
  {
   "cell_type": "code",
   "execution_count": null,
   "metadata": {
    "gather": {
     "logged": 1691755987263
    }
   },
   "outputs": [],
   "source": [
    "# continuous variables\n",
    "qrisk_df[\"qrisk_f\"] += qrisk_df[\"age_1_f\"] * -8.1388109247726188\n",
    "qrisk_df[\"qrisk_f\"] += qrisk_df[\"age_2_f\"] * 0.79733376689699098\n",
    "qrisk_df[\"qrisk_f\"] += qrisk_df[\"bmi_1_f\"] * 0.29236092275460052\n",
    "qrisk_df[\"qrisk_f\"] += qrisk_df[\"bmi_2_f\"] * -4.1513300213837665\n",
    "qrisk_df[\"qrisk_f\"] += qrisk_df[\"rati_f\"] * 0.15338035820802554\n",
    "qrisk_df[\"qrisk_f\"] += qrisk_df[\"systolic_blood_pressure_f\"] * 0.013131488407103424\n",
    "qrisk_df[\"qrisk_f\"] += qrisk_df[\"sbps5_f\"] * 0.0078894541014586095\n",
    "qrisk_df[\"qrisk_f\"] += qrisk_df[\"tdi_f\"] * 0.077223790588590108"
   ]
  },
  {
   "cell_type": "code",
   "execution_count": null,
   "metadata": {
    "gather": {
     "logged": 1691755987355
    }
   },
   "outputs": [],
   "source": [
    "# medications and diseases\n",
    "qrisk_df[\"qrisk_f\"] += qrisk_df[\"b_AF\"] * 1.5923354969269663\n",
    "qrisk_df[\"qrisk_f\"] += qrisk_df[\"b_atypicalantipsy\"] * 0.25237642070115557\n",
    "qrisk_df[\"qrisk_f\"] += qrisk_df[\"b_corticosteroids\"] * 0.59520725304601851\n",
    "qrisk_df[\"qrisk_f\"] += qrisk_df[\"b_migraine\"] * 0.301267260870345\n",
    "qrisk_df[\"qrisk_f\"] += qrisk_df[\"b_ra\"] * 0.21364803435181942\n",
    "qrisk_df[\"qrisk_f\"] += qrisk_df[\"b_renal\"] * 0.65194569493845833\n",
    "qrisk_df[\"qrisk_f\"] += qrisk_df[\"b_semi\"] * 0.12555308058820178\n",
    "qrisk_df[\"qrisk_f\"] += qrisk_df[\"b_sle\"] * 0.75880938654267693\n",
    "qrisk_df[\"qrisk_f\"] += qrisk_df[\"b_treatedhyp\"] * 0.50931593683423004\n",
    "qrisk_df[\"qrisk_f\"] += qrisk_df[\"b_type1\"] * 1.7267977510537347\n",
    "qrisk_df[\"qrisk_f\"] += qrisk_df[\"b_type2\"] * 1.0688773244615468\n",
    "qrisk_df[\"qrisk_f\"] += qrisk_df[\"family_history_cvd\"] * 0.45445319020896213"
   ]
  },
  {
   "cell_type": "code",
   "execution_count": null,
   "metadata": {
    "gather": {
     "logged": 1691755987837
    }
   },
   "outputs": [],
   "source": [
    "# smoking\n",
    "qrisk_df.loc[qrisk_df[\"smoke_cat\"] == 1, \"qrisk_f\"] += qrisk_df[\"age_1_f\"] * -4.7057161785851891000000000\n",
    "qrisk_df.loc[qrisk_df[\"smoke_cat\"] == 2, \"qrisk_f\"] += qrisk_df[\"age_1_f\"] * -2.7430383403573337000000000\n",
    "qrisk_df.loc[qrisk_df[\"smoke_cat\"] == 3, \"qrisk_f\"] += qrisk_df[\"age_1_f\"] * -0.8660808882939218200000000\n",
    "qrisk_df.loc[qrisk_df[\"smoke_cat\"] == 4, \"qrisk_f\"] += qrisk_df[\"age_1_f\"] *  0.9024156236971064800000000"
   ]
  },
  {
   "cell_type": "code",
   "execution_count": null,
   "metadata": {
    "gather": {
     "logged": 1691755988264
    }
   },
   "outputs": [],
   "source": [
    "# interaction terms\n",
    "qrisk_df[\"qrisk_f\"] += qrisk_df[\"age_1_f\"] * qrisk_df[\"b_AF\"] * 19.938034889546561\n",
    "qrisk_df[\"qrisk_f\"] += qrisk_df[\"age_1_f\"] * qrisk_df[\"b_corticosteroids\"] * -0.98408045235936281\n",
    "qrisk_df[\"qrisk_f\"] += qrisk_df[\"age_1_f\"] * qrisk_df[\"b_migraine\"] * 1.7634979587872999\n",
    "qrisk_df[\"qrisk_f\"] += qrisk_df[\"age_1_f\"] * qrisk_df[\"b_renal\"] * -3.5874047731694114\n",
    "qrisk_df[\"qrisk_f\"] += qrisk_df[\"age_1_f\"] * qrisk_df[\"b_sle\"] * 19.690303738638292\n",
    "qrisk_df[\"qrisk_f\"] += qrisk_df[\"age_1_f\"] * qrisk_df[\"b_treatedhyp\"] * 11.872809733921812\n",
    "qrisk_df[\"qrisk_f\"] += qrisk_df[\"age_1_f\"] * qrisk_df[\"b_type1\"] * -1.2444332714320747\n",
    "qrisk_df[\"qrisk_f\"] += qrisk_df[\"age_1_f\"] * qrisk_df[\"b_type2\"] * 6.8652342000009599\n",
    "qrisk_df[\"qrisk_f\"] += qrisk_df[\"age_1_f\"] * qrisk_df[\"bmi_1_f\"] * 23.802623412141742\n",
    "qrisk_df[\"qrisk_f\"] += qrisk_df[\"age_1_f\"] * qrisk_df[\"bmi_2_f\"] * -71.184947692087007\n",
    "qrisk_df[\"qrisk_f\"] += qrisk_df[\"age_1_f\"] * qrisk_df[\"family_history_cvd\"] * 0.99467807940435127\n",
    "qrisk_df[\"qrisk_f\"] += qrisk_df[\"age_1_f\"] * qrisk_df[\"systolic_blood_pressure\"] * 0.034131842338615485\n",
    "qrisk_df[\"qrisk_f\"] += qrisk_df[\"age_1_f\"] * qrisk_df[\"tdi\"] * -1.0301180802035639\n",
    "\n",
    "qrisk_df.loc[qrisk_df[\"smoke_cat\"] == 1, \"qrisk_f\"] += qrisk_df[\"age_2_f\"] * -0.075589244643193026\n",
    "qrisk_df.loc[qrisk_df[\"smoke_cat\"] == 2, \"qrisk_f\"] += qrisk_df[\"age_2_f\"] * -0.11951192874867074\n",
    "qrisk_df.loc[qrisk_df[\"smoke_cat\"] == 3, \"qrisk_f\"] += qrisk_df[\"age_2_f\"] * -0.10366306397571923\n",
    "qrisk_df.loc[qrisk_df[\"smoke_cat\"] == 4, \"qrisk_f\"] += qrisk_df[\"age_2_f\"] * -0.13991853591718389\n",
    "\n",
    "qrisk_df[\"qrisk_f\"] += qrisk_df[\"age_2_f\"] * qrisk_df[\"b_AF\"] * -0.076182651011162505\n",
    "qrisk_df[\"qrisk_f\"] += qrisk_df[\"age_2_f\"] * qrisk_df[\"b_corticosteroids\"] * -0.12005364946742472\n",
    "qrisk_df[\"qrisk_f\"] += qrisk_df[\"age_2_f\"] * qrisk_df[\"b_migraine\"] * -0.065586917898699859\n",
    "qrisk_df[\"qrisk_f\"] += qrisk_df[\"age_2_f\"] * qrisk_df[\"b_renal\"] * -0.22688873086442507\n",
    "qrisk_df[\"qrisk_f\"] += qrisk_df[\"age_2_f\"] * qrisk_df[\"b_sle\"] * 0.077347949679016273\n",
    "qrisk_df[\"qrisk_f\"] += qrisk_df[\"age_2_f\"] * qrisk_df[\"b_treatedhyp\"] * 0.00096857823588174436\n",
    "qrisk_df[\"qrisk_f\"] += qrisk_df[\"age_2_f\"] * qrisk_df[\"b_type1\"] * -0.28724064624488949\n",
    "qrisk_df[\"qrisk_f\"] += qrisk_df[\"age_2_f\"] * qrisk_df[\"b_type2\"] * -0.097112252590695489\n",
    "qrisk_df[\"qrisk_f\"] += qrisk_df[\"age_2_f\"] * qrisk_df[\"bmi_1_f\"] * 0.52369958933664429\n",
    "qrisk_df[\"qrisk_f\"] += qrisk_df[\"age_2_f\"] * qrisk_df[\"bmi_2_f\"] * 0.045744190122323759\n",
    "qrisk_df[\"qrisk_f\"] += qrisk_df[\"age_2_f\"] * qrisk_df[\"family_history_cvd\"] * -0.076885051698423038\n",
    "qrisk_df[\"qrisk_f\"] += qrisk_df[\"age_2_f\"] * qrisk_df[\"systolic_blood_pressure\"] * -0.0015082501423272358\n",
    "qrisk_df[\"qrisk_f\"] += qrisk_df[\"age_2_f\"] * qrisk_df[\"tdi\"] * -0.031593414674962329 "
   ]
  },
  {
   "cell_type": "code",
   "execution_count": null,
   "metadata": {
    "gather": {
     "logged": 1691755988474
    }
   },
   "outputs": [],
   "source": [
    "# compute risk\n",
    "survivor = 0.988876402378082\n",
    "qrisk_df[\"qrisk_f\"] = 1 - survivor**np.exp(qrisk_df[\"qrisk_f\"])"
   ]
  },
  {
   "cell_type": "markdown",
   "metadata": {},
   "source": [
    "# Compute QRISK3 male"
   ]
  },
  {
   "cell_type": "code",
   "execution_count": null,
   "metadata": {
    "gather": {
     "logged": 1691755988564
    }
   },
   "outputs": [],
   "source": [
    "# applying the fractional polynomial transforms (which includes scaling)\n",
    "qrisk_df[\"age_1_m\"] = qrisk_df[\"dage\"]**(-1)\n",
    "qrisk_df[\"age_2_m\"] = qrisk_df[\"dage\"]**3\n",
    "qrisk_df[\"bmi_1_m\"] = qrisk_df[\"dbmi\"]**(-2)\n",
    "qrisk_df[\"bmi_2_m\"] = qrisk_df[\"dbmi\"]**(-2)*np.log(qrisk_df[\"dbmi\"])\n",
    "\n",
    "# center the continuous variables\n",
    "qrisk_df[\"age_1_m\"] = qrisk_df[\"age_1_m\"] - 0.234766781330109\n",
    "qrisk_df[\"age_2_m\"] = qrisk_df[\"age_2_m\"] - 77.284080505371094\n",
    "qrisk_df[\"bmi_1_m\"] = qrisk_df[\"bmi_1_m\"] - 0.149176135659218\n",
    "qrisk_df[\"bmi_2_m\"] = qrisk_df[\"bmi_2_m\"] - 0.141913309693336\n",
    "qrisk_df[\"rati_m\"] = qrisk_df[\"rati\"] - 4.300998687744141\n",
    "qrisk_df[\"systolic_blood_pressure_m\"] = qrisk_df[\"systolic_blood_pressure\"] - 128.571578979492190\n",
    "qrisk_df[\"sbps5_m\"] = qrisk_df[\"sd_sbp\"] - 8.756621360778809\n",
    "qrisk_df[\"tdi_m\"] = qrisk_df[\"tdi\"] - 0.526304900646210"
   ]
  },
  {
   "cell_type": "code",
   "execution_count": null,
   "metadata": {
    "gather": {
     "logged": 1691755988683
    }
   },
   "outputs": [],
   "source": [
    "# ethnicity\n",
    "qrisk_df[\"qrisk_m\"] = 0\n",
    "qrisk_df.loc[qrisk_df[\"ethnicity\"] == 2, \"qrisk_m\"] += 0.27719248760308279\n",
    "qrisk_df.loc[qrisk_df[\"ethnicity\"] == 3, \"qrisk_m\"] += 0.47446360714931268\n",
    "qrisk_df.loc[qrisk_df[\"ethnicity\"] == 4, \"qrisk_m\"] += 0.52961729919689371\n",
    "qrisk_df.loc[qrisk_df[\"ethnicity\"] == 5, \"qrisk_m\"] += 0.035100159186299017   \n",
    "qrisk_df.loc[qrisk_df[\"ethnicity\"] == 6, \"qrisk_m\"] += -0.35807899669327919\n",
    "qrisk_df.loc[qrisk_df[\"ethnicity\"] == 7, \"qrisk_m\"] += -0.4005648523216514\n",
    "qrisk_df.loc[qrisk_df[\"ethnicity\"] == 8, \"qrisk_m\"] += -0.41522792889830173  \n",
    "qrisk_df.loc[qrisk_df[\"ethnicity\"] == 9, \"qrisk_m\"] += -0.26321348134749967"
   ]
  },
  {
   "cell_type": "code",
   "execution_count": null,
   "metadata": {
    "gather": {
     "logged": 1691755988791
    }
   },
   "outputs": [],
   "source": [
    "# smoking\n",
    "qrisk_df.loc[qrisk_df[\"smoke_cat\"] == 1, \"qrisk_m\"] += 0.19128222863388983\n",
    "qrisk_df.loc[qrisk_df[\"smoke_cat\"] == 2, \"qrisk_m\"] += 0.55241588192645552\n",
    "qrisk_df.loc[qrisk_df[\"smoke_cat\"] == 3, \"qrisk_m\"] += 0.63835053027506072\n",
    "qrisk_df.loc[qrisk_df[\"smoke_cat\"] == 4, \"qrisk_m\"] += 0.78983819881858019"
   ]
  },
  {
   "cell_type": "code",
   "execution_count": null,
   "metadata": {
    "gather": {
     "logged": 1691755988924
    }
   },
   "outputs": [],
   "source": [
    "# continuous variables\n",
    "qrisk_df[\"qrisk_m\"] += qrisk_df[\"age_1_m\"] * -17.839781666005575\n",
    "qrisk_df[\"qrisk_m\"] += qrisk_df[\"age_2_m\"] * 0.0022964880605765492\n",
    "qrisk_df[\"qrisk_m\"] += qrisk_df[\"bmi_1_m\"] * 2.4562776660536358\n",
    "qrisk_df[\"qrisk_m\"] += qrisk_df[\"bmi_2_m\"] * -8.3011122314711354\n",
    "qrisk_df[\"qrisk_m\"] += qrisk_df[\"rati_m\"] * 0.17340196856327111\n",
    "qrisk_df[\"qrisk_m\"] += qrisk_df[\"systolic_blood_pressure_m\"] * 0.012910126542553305\n",
    "qrisk_df[\"qrisk_m\"] += qrisk_df[\"sbps5_m\"] * 0.010251914291290456\n",
    "qrisk_df[\"qrisk_m\"] += qrisk_df[\"tdi_m\"] * 0.033268201277287295"
   ]
  },
  {
   "cell_type": "code",
   "execution_count": null,
   "metadata": {
    "gather": {
     "logged": 1691755989025
    }
   },
   "outputs": [],
   "source": [
    "# medications and diseases\n",
    "qrisk_df[\"qrisk_m\"] += qrisk_df[\"b_AF\"] * 0.88209236928054657\n",
    "qrisk_df[\"qrisk_m\"] += qrisk_df[\"b_atypicalantipsy\"] * 0.13046879855173513\n",
    "qrisk_df[\"qrisk_m\"] += qrisk_df[\"b_corticosteroids\"] * 0.45485399750445543\n",
    "qrisk_df[\"qrisk_m\"] += qrisk_df[\"b_impotence2\"] * 0.22251859086705383\n",
    "qrisk_df[\"qrisk_m\"] += qrisk_df[\"b_migraine\"] * 0.25584178074159913\n",
    "qrisk_df[\"qrisk_m\"] += qrisk_df[\"b_ra\"] * 0.20970658013956567\n",
    "qrisk_df[\"qrisk_m\"] += qrisk_df[\"b_renal\"] * 0.71853261288274384\n",
    "qrisk_df[\"qrisk_m\"] += qrisk_df[\"b_semi\"] * 0.12133039882047164\n",
    "qrisk_df[\"qrisk_m\"] += qrisk_df[\"b_sle\"] * 0.4401572174457522\n",
    "qrisk_df[\"qrisk_m\"] += qrisk_df[\"b_treatedhyp\"] * 0.51659871082695474\n",
    "qrisk_df[\"qrisk_m\"] += qrisk_df[\"b_type1\"] * 1.2343425521675175\n",
    "qrisk_df[\"qrisk_m\"] += qrisk_df[\"b_type2\"] * 0.85942071430932221\n",
    "qrisk_df[\"qrisk_m\"] += qrisk_df[\"family_history_cvd\"] * 0.54055469009390156"
   ]
  },
  {
   "cell_type": "code",
   "execution_count": null,
   "metadata": {
    "gather": {
     "logged": 1691755989313
    }
   },
   "outputs": [],
   "source": [
    "# interactions\n",
    "qrisk_df.loc[qrisk_df[\"smoke_cat\"] == 1, \"qrisk_m\"] += qrisk_df[\"age_1_m\"] * -0.21011133933516346\n",
    "qrisk_df.loc[qrisk_df[\"smoke_cat\"] == 2, \"qrisk_m\"] += qrisk_df[\"age_1_m\"] * 0.7526867644750319\n",
    "qrisk_df.loc[qrisk_df[\"smoke_cat\"] == 3, \"qrisk_m\"] += qrisk_df[\"age_1_m\"] * 0.9931588755640579\n",
    "qrisk_df.loc[qrisk_df[\"smoke_cat\"] == 4, \"qrisk_m\"] += qrisk_df[\"age_1_m\"] * 2.1331163414389076\n",
    "\n",
    "qrisk_df[\"qrisk_m\"] += qrisk_df[\"age_1_m\"] * qrisk_df[\"b_AF\"] * 3.4896675530623207\n",
    "qrisk_df[\"qrisk_m\"] += qrisk_df[\"age_1_m\"] * qrisk_df[\"b_corticosteroids\"] * 1.1708133653489108\n",
    "qrisk_df[\"qrisk_m\"] += qrisk_df[\"age_1_m\"] * qrisk_df[\"b_impotence2\"] * -1.506400985745431\n",
    "qrisk_df[\"qrisk_m\"] += qrisk_df[\"age_1_m\"] * qrisk_df[\"b_migraine\"] * 2.349115987140244\n",
    "qrisk_df[\"qrisk_m\"] += qrisk_df[\"age_1_m\"] * qrisk_df[\"b_renal\"] * -0.50656716327223694\n",
    "qrisk_df[\"qrisk_m\"] += qrisk_df[\"age_1_m\"] * qrisk_df[\"b_treatedhyp\"] * 6.511458109853267\n",
    "qrisk_df[\"qrisk_m\"] += qrisk_df[\"age_1_m\"] * qrisk_df[\"b_type1\"] * 5.337986487800653\n",
    "qrisk_df[\"qrisk_m\"] += qrisk_df[\"age_1_m\"] * qrisk_df[\"b_type2\"] * 3.646181740622131\n",
    "qrisk_df[\"qrisk_m\"] += qrisk_df[\"age_1_m\"] * qrisk_df[\"bmi_1_m\"] * 31.004952956033886\n",
    "qrisk_df[\"qrisk_m\"] += qrisk_df[\"age_1_m\"] * qrisk_df[\"bmi_2_m\"] * -111.29157184391643\n",
    "qrisk_df[\"qrisk_m\"] += qrisk_df[\"age_1_m\"] * qrisk_df[\"family_history_cvd\"] * 2.7808628508531887\n",
    "qrisk_df[\"qrisk_m\"] += qrisk_df[\"age_1_m\"] * qrisk_df[\"systolic_blood_pressure_m\"] * 0.018858524469865853\n",
    "qrisk_df[\"qrisk_m\"] += qrisk_df[\"age_1_m\"] * qrisk_df[\"tdi_m\"] * -0.1007554870063731\n",
    "\n",
    "qrisk_df.loc[qrisk_df[\"smoke_cat\"] == 1, \"qrisk_m\"] += qrisk_df[\"age_2_m\"] * -0.00049854870275326121\n",
    "qrisk_df.loc[qrisk_df[\"smoke_cat\"] == 2, \"qrisk_m\"] += qrisk_df[\"age_2_m\"] * -0.00079875633317385414\n",
    "qrisk_df.loc[qrisk_df[\"smoke_cat\"] == 3, \"qrisk_m\"] += qrisk_df[\"age_2_m\"] * -0.00083706184266251296\n",
    "qrisk_df.loc[qrisk_df[\"smoke_cat\"] == 4, \"qrisk_m\"] += qrisk_df[\"age_2_m\"] * -0.00078400319155637289\n",
    "\n",
    "qrisk_df[\"qrisk_m\"] += qrisk_df[\"age_2_m\"] * qrisk_df[\"b_AF\"] * -0.00034995608340636049\n",
    "qrisk_df[\"qrisk_m\"] += qrisk_df[\"age_2_m\"] * qrisk_df[\"b_corticosteroids\"] * -0.0002496045095297166\n",
    "qrisk_df[\"qrisk_m\"] += qrisk_df[\"age_2_m\"] * qrisk_df[\"b_impotence2\"] * -0.0011058218441227373\n",
    "qrisk_df[\"qrisk_m\"] += qrisk_df[\"age_2_m\"] * qrisk_df[\"b_migraine\"] * 0.00019896446041478631\n",
    "qrisk_df[\"qrisk_m\"] += qrisk_df[\"age_2_m\"] * qrisk_df[\"b_renal\"] * -0.0018325930166498813\n",
    "qrisk_df[\"qrisk_m\"] += qrisk_df[\"age_2_m\"] * qrisk_df[\"b_treatedhyp\"] * 0.00063838053104165013\n",
    "qrisk_df[\"qrisk_m\"] += qrisk_df[\"age_2_m\"] * qrisk_df[\"b_type1\"] * 0.0006409780808752897\n",
    "qrisk_df[\"qrisk_m\"] += qrisk_df[\"age_2_m\"] * qrisk_df[\"b_type2\"] * -0.00024695695588868315\n",
    "qrisk_df[\"qrisk_m\"] += qrisk_df[\"age_2_m\"] * qrisk_df[\"bmi_1_m\"] * 0.0050380102356322029\n",
    "qrisk_df[\"qrisk_m\"] += qrisk_df[\"age_2_m\"] * qrisk_df[\"bmi_2_m\"] * -0.013074483002524319\n",
    "qrisk_df[\"qrisk_m\"] += qrisk_df[\"age_2_m\"] * qrisk_df[\"family_history_cvd\"] * -0.00024791809907396037\n",
    "qrisk_df[\"qrisk_m\"] += qrisk_df[\"age_2_m\"] * qrisk_df[\"systolic_blood_pressure_m\"] * -0.00001271874191588457\n",
    "qrisk_df[\"qrisk_m\"] += qrisk_df[\"age_2_m\"] * qrisk_df[\"tdi_m\"] * -0.000093299642323272888"
   ]
  },
  {
   "cell_type": "code",
   "execution_count": null,
   "metadata": {
    "gather": {
     "logged": 1691755990009
    }
   },
   "outputs": [],
   "source": [
    "# compute risk\n",
    "survivor = 0.977268040180206\n",
    "qrisk_df[\"qrisk_m\"] = 1 - survivor**np.exp(qrisk_df[\"qrisk_m\"])"
   ]
  },
  {
   "cell_type": "markdown",
   "metadata": {},
   "source": [
    "## Final QRISK3"
   ]
  },
  {
   "cell_type": "code",
   "execution_count": null,
   "metadata": {
    "gather": {
     "logged": 1691755990405
    }
   },
   "outputs": [],
   "source": [
    "qrisk_df['y_score'] = np.where(qrisk_df['sex'] == 1, qrisk_df[\"qrisk_m\"], qrisk_df[\"qrisk_f\"])\n",
    "score = qrisk_df[['sex', 'y_score']].copy()"
   ]
  },
  {
   "cell_type": "markdown",
   "metadata": {},
   "source": [
    "# QC"
   ]
  },
  {
   "cell_type": "code",
   "execution_count": null,
   "metadata": {
    "gather": {
     "logged": 1691755991910
    }
   },
   "outputs": [],
   "source": [
    "# compute auc\n",
    "from sklearn.metrics import roc_auc_score\n",
    "\n",
    "y_true = df.ascvd_10yr_label.values\n",
    "y_score = score['y_score'].values\n",
    "\n",
    "mask = ~np.isnan(y_true) & ~np.isnan(y_score)\n",
    "y_true = y_true[mask]\n",
    "y_score = y_score[mask]\n",
    "\n",
    "# 0.7330483222312824\n",
    "roc_auc_score(y_true, y_score)"
   ]
  },
  {
   "cell_type": "markdown",
   "metadata": {},
   "source": [
    "# Save"
   ]
  },
  {
   "cell_type": "code",
   "execution_count": null,
   "metadata": {
    "gather": {
     "logged": 1691755992007
    }
   },
   "outputs": [],
   "source": [
    "# compute top quantile by sex as threshold\n",
    "thresholds = score[['sex', 'y_score']].groupby(\"sex\").aggregate(percentile(0.95))\n",
    "thresholds = thresholds.reset_index()\n",
    "thresholds.columns = [\"sex\", \"threshold\"]\n",
    "\n",
    "score = score.reset_index().merge(thresholds, on=\"sex\", how=\"left\").set_index('IID')\n",
    "score[\"y_pred\"] = (score[\"y_score\"] > score[\"threshold\"]).astype(int)\n",
    "\n",
    "score = score[['y_score', 'y_pred']]\n",
    "save_results(score, \"results/qrisk3\")"
   ]
  }
 ],
 "metadata": {
  "kernel_info": {
   "name": "python310-sdkv2"
  },
  "kernelspec": {
   "display_name": "azureml_py310_sdkv2",
   "language": "python",
   "name": "python3"
  },
  "language_info": {
   "codemirror_mode": {
    "name": "ipython",
    "version": 3
   },
   "file_extension": ".py",
   "mimetype": "text/x-python",
   "name": "python",
   "nbconvert_exporter": "python",
   "pygments_lexer": "ipython3",
   "version": "3.10.10"
  },
  "microsoft": {
   "host": {
    "AzureML": {
     "notebookHasBeenCompleted": true
    }
   },
   "ms_spell_check": {
    "ms_spell_check_language": "en"
   }
  },
  "nteract": {
   "version": "nteract-front-end@1.0.0"
  }
 },
 "nbformat": 4,
 "nbformat_minor": 2
}
